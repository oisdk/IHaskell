{
 "cells": [
  {
   "cell_type": "markdown",
   "metadata": {},
   "source": [
    "A simple frequency-based pairing heap:"
   ]
  },
  {
   "cell_type": "code",
   "execution_count": 9,
   "metadata": {},
   "outputs": [],
   "source": [
    ":ext BangPatterns\n",
    "\n",
    "import Data.Semigroup     (Semigroup(..))\n",
    "import Data.List.NonEmpty (NonEmpty(..))\n",
    "import Data.Foldable      (Foldable(..))\n",
    "\n",
    "data Heap a =\n",
    "    Node {-# UNPACK #-} !Int\n",
    "         !a\n",
    "         (HeapList a)\n",
    "\n",
    "infixr 5 :-\n",
    "data HeapList a\n",
    "    = Nil\n",
    "    | (:-) {-# UNPACK #-} !(Heap a)\n",
    "           (HeapList a)\n",
    "\n",
    "instance Foldable Heap where\n",
    "    foldr f b (Node _ x xs) = f x (foldr f b xs)\n",
    "\n",
    "    foldl' f !b (Node _ x xs) =\n",
    "        case f b x of\n",
    "            !b' -> foldl' f b' xs\n",
    "\n",
    "instance Foldable HeapList where\n",
    "    foldr _ b Nil                 = b\n",
    "    foldr f b (Node _ x xs :- ys) = f x (foldr f (foldr f b ys) xs)\n",
    "\n",
    "    foldl' _ !b Nil = b\n",
    "    foldl' f !b (Node _ x xs :- ys) =\n",
    "        case f b x of\n",
    "            !b' -> case foldl' f b' xs of\n",
    "              !b'' -> foldl' f b'' ys\n",
    "\n",
    "instance Semigroup (Heap a) where\n",
    "    (Node i x xs) <> (Node j y ys)\n",
    "      | i <= j = Node i x (Node j y ys :- xs)\n",
    "      | otherwise = Node j y (Node i x xs :- ys)\n",
    "    sconcat (ys :| [])        = ys\n",
    "    sconcat (ys :| [zs])      = ys <> zs\n",
    "    sconcat (ys :| (z:zz:zs)) = (ys <> z) <> sconcat (zz :| zs)\n",
    "\n",
    "mergeHeaps :: Heap a -> HeapList a -> Heap a\n",
    "mergeHeaps t Nil               = t\n",
    "mergeHeaps t1 (t2 :- Nil)      = t1 <> t2\n",
    "mergeHeaps t1 (t2 :- t3 :- ts) = (t1 <> t2) <> mergeHeaps t3 ts\n",
    "\n",
    "singleton :: Int -> a -> Heap a\n",
    "singleton i x = Node i x Nil\n",
    "\n",
    "insert :: Int -> a -> Heap a -> Heap a\n",
    "insert !i !x (Node j y ys)\n",
    "  | i <= j = Node i x (Node j y ys :- Nil)\n",
    "  | otherwise = Node j y (Node i x Nil :- ys)\n",
    "\n",
    "insertList :: Int -> a -> HeapList a -> Heap a\n",
    "insertList !i !x Nil = Node i x Nil\n",
    "insertList !i !x (y :- ys) = insert i x (mergeHeaps y ys)"
   ]
  },
  {
   "cell_type": "markdown",
   "metadata": {},
   "source": [
    "A function to count the frequencies of some elements:"
   ]
  },
  {
   "cell_type": "code",
   "execution_count": 13,
   "metadata": {},
   "outputs": [
    {
     "data": {
      "text/plain": [
       "fromList [('a',4),('b',2),('c',1)]"
      ]
     },
     "metadata": {},
     "output_type": "display_data"
    }
   ],
   "source": [
    "import           Data.Map.Strict (Map)\n",
    "import qualified Data.Map.Strict as Map\n",
    "\n",
    "frequencies :: (Ord a, Foldable f) => f a -> Map a Int\n",
    "frequencies = foldl' (\\m x -> Map.insertWith (+) x 1 m) Map.empty\n",
    "\n",
    "frequencies \"aaabcba\""
   ]
  },
  {
   "cell_type": "markdown",
   "metadata": {},
   "source": [
    "A Huffman tree:"
   ]
  },
  {
   "cell_type": "code",
   "execution_count": null,
   "metadata": {},
   "outputs": [],
   "source": [
    "data Tree a\n",
    "    = Leaf {-# UNPACK #-} !Int a\n",
    "    | Node "
   ]
  }
 ],
 "metadata": {
  "kernelspec": {
   "display_name": "Haskell",
   "language": "haskell",
   "name": "haskell"
  },
  "language_info": {
   "codemirror_mode": "ihaskell",
   "file_extension": ".hs",
   "name": "haskell",
   "version": "8.2.2"
  }
 },
 "nbformat": 4,
 "nbformat_minor": 2
}

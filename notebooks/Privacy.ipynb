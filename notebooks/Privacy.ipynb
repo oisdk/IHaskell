{
 "cells": [
  {
   "cell_type": "markdown",
   "metadata": {},
   "source": [
    "# Compression Anonymity\n",
    "\n",
    "This notebook explores several avenues of using compression and common compression schemes to provide anonymity and privacy. First, we'll write a simple implementation of Huffman encoding, but make it generic enough so that it can be tweaked to provide privacy instead of compression."
   ]
  },
  {
   "cell_type": "markdown",
   "metadata": {},
   "source": [
    "# Preliminaries\n",
    "\n",
    "Before writing any code for privacy, we'll need the basic data structures and building blocks we're going to use throughout this notebook to write the compression algorithms."
   ]
  },
  {
   "cell_type": "markdown",
   "metadata": {},
   "source": [
    "## Utility Functions"
   ]
  },
  {
   "cell_type": "code",
   "execution_count": null,
   "metadata": {},
   "outputs": [],
   "source": [
    "import Data.Coerce\n",
    "\n",
    "ala :: Coercible a b => (b -> b -> b) -> (a -> b) -> a -> a -> a\n",
    "ala f _ = coerce f"
   ]
  },
  {
   "cell_type": "markdown",
   "metadata": {},
   "source": [
    "## A Binary Tree\n",
    "\n",
    "This is the tree we'll use for both the encoding and anonymization algorithms. It caches some measure of its subtrees: this could be their diversity, the amount of information they contain, or simply the number of elements."
   ]
  },
  {
   "cell_type": "code",
   "execution_count": null,
   "metadata": {},
   "outputs": [],
   "source": [
    ":ext DeriveFoldable\n",
    "\n",
    "import Data.Semigroup.Foldable (Foldable1(foldMap1))\n",
    "import Data.Semigroup          ((<>))\n",
    "\n",
    "data Tree a b\n",
    "    = Leaf { measure :: a\n",
    "           , val     :: b }\n",
    "    | Node { measure :: a\n",
    "           , lchild  :: Tree a b\n",
    "           , rchild  :: Tree a b }\n",
    "    deriving Foldable\n",
    "\n",
    "instance Foldable1 (Tree a) where\n",
    "    foldMap1 f (Leaf _ x) = f x\n",
    "    foldMap1 f (Node _ l r) = foldMap1 f l <> foldMap1 f r"
   ]
  },
  {
   "cell_type": "markdown",
   "metadata": {},
   "source": [
    "We can draw the tree, with the measures of subtrees at each node:"
   ]
  },
  {
   "cell_type": "code",
   "execution_count": null,
   "metadata": {},
   "outputs": [],
   "source": [
    ":ext FlexibleContexts\n",
    "\n",
    "import           Diagrams.TwoD.Layout.Tree (renderTree',symmLayout)\n",
    "import           Diagrams.Prelude          (text,fontSizeL,circle,fc,lc\n",
    "                                           ,white,pad,centerXY,(~~),(#)\n",
    "                                           ,dashingG)\n",
    "import           IHaskell.Display          (IHaskellDisplay(display))\n",
    "import qualified Data.Tree                 as Rose\n",
    "import           Data.Semigroup            ((<>))\n",
    "\n",
    "instance (Show a, Show b) => IHaskellDisplay (Tree a b) where\n",
    "    display = display . diagram . drawTree . toTree\n",
    "      where\n",
    "        toTree (Leaf i x)\n",
    "            = Rose.Node (True,show i) [Rose.Node (False,show x) []]\n",
    "        toTree (Node i l r)\n",
    "            = Rose.Node (True,show i) [toTree l, toTree r]\n",
    "        renderNode n = text n # fontSizeL 0.2\n",
    "                    <> circle 0.2 # fc white # lc white\n",
    "        renderBranch (_,l) (vr,r)\n",
    "          | fst vr = l ~~ r\n",
    "          | otherwise = l ~~ r \n",
    "                      # dashingG [0.05, 0.05] 0\n",
    "        drawTree\n",
    "            = pad 1.1\n",
    "            . centerXY\n",
    "            . renderTree' (renderNode . snd) renderBranch\n",
    "            . symmLayout\n",
    "\n",
    "Node 5 (Leaf 3 'a') (Node 2 (Leaf 1 'b') (Leaf 1 'c'))"
   ]
  },
  {
   "cell_type": "markdown",
   "metadata": {},
   "source": [
    "Then, we'll need some machinery for translating between codes and trees."
   ]
  },
  {
   "cell_type": "code",
   "execution_count": null,
   "metadata": {},
   "outputs": [],
   "source": [
    "import           Data.Map.Strict (Map)\n",
    "import qualified Data.Map.Strict as Map\n",
    "import           Data.Semigroup  (Semigroup((<>)))\n",
    "\n",
    "type Code = [Bool]\n",
    "\n",
    "foldMapWithCode :: Semigroup m => (Code -> b -> m) -> Tree a b -> m\n",
    "foldMapWithCode f (Leaf _ x) = f [] x\n",
    "foldMapWithCode f (Node _ xs ys)\n",
    "    =  foldMapWithCode (f . (:) False) xs\n",
    "    <> foldMapWithCode (f . (:) True) ys \n",
    "\n",
    "codeBook :: Ord b => Tree a b -> Map b Code\n",
    "codeBook = foldMapWithCode (flip Map.singleton)"
   ]
  },
  {
   "cell_type": "markdown",
   "metadata": {},
   "source": [
    "## A Priority Queue\n",
    "\n",
    "A pairing heap <cite data-cite=\"2201627/9H95638W\"></cite> is simple to implement, and works well as a priority queue. Both the `<>` and `insertHeap` functions below are amortized $\\mathcal{O}(1)$, and `minView` is amortized $\\mathcal{O}(\\log n)$."
   ]
  },
  {
   "cell_type": "code",
   "execution_count": null,
   "metadata": {
    "scrolled": true
   },
   "outputs": [],
   "source": [
    "import Data.Semigroup (Semigroup((<>)))\n",
    "\n",
    "data Heap a b = Heap a b [Heap a b]\n",
    "\n",
    "instance Ord a => Semigroup (Heap a b) where\n",
    "    Heap i x xs <> Heap j y ys\n",
    "      | i <= j = Heap i x (Heap j y ys : xs)\n",
    "      | otherwise = Heap j y (Heap i x xs : ys)\n",
    "\n",
    "minView :: Ord a => Heap a b -> (a, b, Maybe (Heap a b))\n",
    "minView (Heap i x xs) = (i, x, case xs of\n",
    "    [] -> Nothing\n",
    "    (y:ys) -> Just (mergeHeaps y ys))\n",
    "  where\n",
    "    mergeHeaps t []          = t\n",
    "    mergeHeaps t1 [t2]       = t1 <> t2\n",
    "    mergeHeaps t1 (t2:t3:ts) = (t1 <> t2) <> mergeHeaps t3 ts\n",
    "\n",
    "insertHeap :: Ord a => a -> b -> Heap a b -> Heap a b\n",
    "insertHeap i x (Heap j y ys)\n",
    "  | i <= j = Heap i x [Heap j y ys]\n",
    "  | otherwise = Heap j y (Heap i x [] : ys)"
   ]
  },
  {
   "cell_type": "markdown",
   "metadata": {},
   "source": [
    "## A Frequency Table\n",
    "\n",
    "We'll be using Haskell's standard `Map` type, which has $\\mathcal{O}(\\log n)$ update, delete, etc. Building a frequency table is therefore $\\mathcal{O}(n \\log n)$."
   ]
  },
  {
   "cell_type": "code",
   "execution_count": null,
   "metadata": {},
   "outputs": [],
   "source": [
    "import           Data.Map.Strict (Map)\n",
    "import qualified Data.Map.Strict as Map\n",
    "\n",
    "import           Data.Foldable   (Foldable(foldMap,foldl'))\n",
    "import           Data.Semigroup  (Semigroup(..))\n",
    "\n",
    "newtype MeasureTable a b\n",
    "    = MeasureTable\n",
    "    { getMeasures :: Map b a\n",
    "    }\n",
    "\n",
    "instance (Semigroup a, Ord b) => Semigroup (MeasureTable a b) where\n",
    "    (<>) = Map.unionWith (<>) `ala` getMeasures\n",
    "\n",
    "instance (Semigroup a, Ord b) => Monoid (MeasureTable a b) where\n",
    "    mempty = MeasureTable Map.empty\n",
    "    mappend = (<>)\n",
    "\n",
    "buildMeasureTable :: (Foldable f, Semigroup a, Ord b)\n",
    "                  => (b -> a) -> f b -> MeasureTable a b\n",
    "buildMeasureTable f\n",
    "    = foldMap (\\x -> MeasureTable (Map.singleton x (f x)))\n",
    "\n",
    "instance Integral a => Foldable (MeasureTable a) where\n",
    "    foldMap f (MeasureTable xs) =\n",
    "        Map.foldMapWithKey (rep . f) xs\n",
    "      where\n",
    "        rep x 1 = x\n",
    "        rep x n\n",
    "          | even n = mappend y y\n",
    "          | otherwise = mappend x (mappend y y)\n",
    "          where y = rep x (n `div` 2)"
   ]
  },
  {
   "cell_type": "markdown",
   "metadata": {},
   "source": [
    "A frequency table is simply the measure table specialized to $\\mathbb{N}$."
   ]
  },
  {
   "cell_type": "code",
   "execution_count": null,
   "metadata": {},
   "outputs": [],
   "source": [
    ":ext GeneralizedNewtypeDeriving\n",
    "\n",
    "import Numeric.Natural\n",
    "    \n",
    "newtype Frequency\n",
    "    = Frequency { getFrequency :: Natural\n",
    "    } deriving (Eq, Ord, Num, Enum, Real, Integral)\n",
    "\n",
    "instance Show Frequency where\n",
    "    showsPrec n (Frequency x) = showsPrec n x\n",
    "    \n",
    "instance Semigroup Frequency where\n",
    "    (<>) = (+) `ala` getFrequency\n",
    "\n",
    "instance Monoid Frequency where\n",
    "    mempty = Frequency 0\n",
    "    mappend = (<>)\n",
    "\n",
    "type Frequencies = MeasureTable Frequency\n",
    "\n",
    "buildFrequencies :: (Ord a, Foldable f)\n",
    "                 => f a -> Frequencies a\n",
    "buildFrequencies = buildMeasureTable (const 1)"
   ]
  },
  {
   "cell_type": "markdown",
   "metadata": {},
   "source": [
    "We can plot the contents of a frequency table using a histogram."
   ]
  },
  {
   "cell_type": "code",
   "execution_count": null,
   "metadata": {},
   "outputs": [],
   "source": [
    ":ext RankNTypes\n",
    "\n",
    "import Graphics.Rendering.Chart (layout_x_axis,laxis_generate\n",
    "                                ,layout_y_axis,toRenderable,autoIndexAxis\n",
    "                                ,laxis_title,layout_plots,plotBars\n",
    "                                ,plot_bars_values,addIndexes\n",
    "                                ,plot_bars_item_styles,fill_color\n",
    "                                ,PlotValue(..),BarsPlotValue(..),AxisFn\n",
    "                                ,AxisData(..))\n",
    "import Data.Colour              (withOpacity)\n",
    "import Data.Colour.Names        (cornflowerblue)\n",
    "import Data.Default.Class       (def)\n",
    "import Control.Lens             (Iso',(^.),iso,mapping,from,(.~),lmapping\n",
    "                                ,rmapping,dimapping,firsting,each,_1,enum)\n",
    "import IHaskell.Display         (IHaskellDisplay(display))\n",
    "import Data.Profunctor\n",
    "\n",
    "onAxisData :: Iso' a b -> Iso' (AxisFn a) (AxisFn b)\n",
    "onAxisData l\n",
    "    = dimapping\n",
    "        (mapping (from l))\n",
    "        (iso (dataChange l) (dataChange (from l)))\n",
    "  where\n",
    "    dataChange l (AxisData vs vp tv tc lb gd)\n",
    "        = AxisData\n",
    "            vs\n",
    "            (vp ^. (rmapping.lmapping.from) l)\n",
    "            (tv ^. (rmapping.rmapping) l)\n",
    "            (tc ^. (mapping.firsting) l)\n",
    "            (lb ^. (mapping.mapping.firsting) l)\n",
    "            (gd ^. mapping l)\n",
    "\n",
    "instance PlotValue Frequency where\n",
    "    toValue = fromIntegral\n",
    "    fromValue = round\n",
    "    autoAxis = autoAxis ^. onAxisData enum\n",
    "\n",
    "instance BarsPlotValue Frequency where\n",
    "    barsReference = 0\n",
    "    barsAdd = (+)\n",
    "\n",
    "default (Frequency, Int, Double)\n",
    "\n",
    "instance (Show b, Ord a, BarsPlotValue a)\n",
    "        => IHaskellDisplay (MeasureTable a b) where\n",
    "    display (MeasureTable freqs)\n",
    "        = display\n",
    "        $ toRenderable\n",
    "        $ layout_x_axis.laxis_generate .~ autoIndexAxis keys\n",
    "        $ layout_y_axis.laxis_title .~ \"Frequency\"\n",
    "        $ layout_plots .~ [ plotBars\n",
    "                          $ plot_bars_values .~ addIndexes vals\n",
    "                          $ plot_bars_item_styles.each._1.fill_color .~\n",
    "                                cornflowerblue `withOpacity` 0.3\n",
    "                          $ def ]\n",
    "        $ def\n",
    "      where\n",
    "        (keys,vals) = unzip [ (show k, [v]) | (k,v) <- Map.toList freqs ]\n",
    "\n",
    ":opt svg\n",
    "\n",
    "buildFrequencies \"this is an example of a frequency table\""
   ]
  },
  {
   "cell_type": "markdown",
   "metadata": {},
   "source": [
    "## Rendering Histograms\n",
    "\n",
    "We'll also need an easy way to show a histogram of continuous data."
   ]
  },
  {
   "cell_type": "code",
   "execution_count": null,
   "metadata": {},
   "outputs": [],
   "source": [
    "import Graphics.Rendering.Chart                (PlotValue,Renderable\n",
    "                                               ,Layout,toRenderable\n",
    "                                               ,fill_color)\n",
    "import Graphics.Rendering.Chart.Plot.Histogram (histToPlot\n",
    "                                               ,plot_hist_values\n",
    "                                               ,plot_hist_bins\n",
    "                                               ,plot_hist_range\n",
    "                                               ,plot_hist_fill_style)\n",
    "import Data.Colour                             (withOpacity)\n",
    "import Data.Colour.Names                       (cornflowerblue)\n",
    "import Data.Default.Class                      (def)\n",
    "import Control.Lens                            ((.~))\n",
    "\n",
    "histogram :: (Ord a, RealFrac a, PlotValue a)\n",
    "          => a -> a -> [a] -> Renderable ()\n",
    "histogram binSize lowerBound values =\n",
    "    toRenderable\n",
    "  $ layout_plots .~ [ histToPlot \n",
    "                    $ plot_hist_values .~ values\n",
    "                    $ plot_hist_bins .~ bins\n",
    "                    $ plot_hist_range .~\n",
    "                        Just (lowerBound\n",
    "                             ,lowerBound + fromIntegral bins * binSize)\n",
    "                    $ plot_hist_fill_style . fill_color .~\n",
    "                        cornflowerblue `withOpacity` 0.3\n",
    "                    $ def ]\n",
    "  $ (def :: PlotValue a => Layout a Int)\n",
    "  where\n",
    "    bins = ceiling ((maximum values - lowerBound) / binSize)\n",
    "\n",
    "histogram 10 0 [6,2,3,1,36,38,27]"
   ]
  },
  {
   "cell_type": "markdown",
   "metadata": {},
   "source": [
    "## Ranges\n",
    "\n",
    "One of the fundamental ways we'll be using to summarize data is with a range. We can encode that as so:"
   ]
  },
  {
   "cell_type": "code",
   "execution_count": null,
   "metadata": {},
   "outputs": [],
   "source": [
    "import Data.Semigroup      (Semigroup(..),Option(..),Max(..),Min(..))\n",
    "import Control.Applicative (liftA2)\n",
    "import Text.Printf         (printf,PrintfArg)\n",
    "import Data.Maybe          (fromMaybe,fromJust)\n",
    "\n",
    "data Range a\n",
    "    = Range\n",
    "    { lowerBound :: Maybe a\n",
    "    , upperBound :: Maybe a\n",
    "    } deriving (Eq,Ord)\n",
    "\n",
    "instance (Ord a, Enum a, PrintfArg a, Bounded a) => Show (Range a) where\n",
    "    show (Range (Just l) (Just u))\n",
    "      | succ l == u = printf \"%v\" l\n",
    "      | l >= u = \"∅\"\n",
    "    show (Range l (Just u)) = printf \"[%v,%v)\" (fromMaybe minBound l) u\n",
    "    show (Range l Nothing)\n",
    "      | l == Just maxBound = printf \"%v\" (maxBound `asTypeOf` fromJust l)\n",
    "      | otherwise =\n",
    "          printf\n",
    "              \"[%v,%v]\"\n",
    "              (fromMaybe minBound l)\n",
    "              (maxBound `asTypeOf` fromJust l)\n",
    "\n",
    "union (Range xl xu) (Range yl yu)\n",
    "    = Range\n",
    "        (liftA2 min xl yl)\n",
    "        (liftA2 max xu yu)\n",
    "\n",
    "intersection :: Ord a => Range a -> Range a -> Range a\n",
    "intersection (Range lx ux) (Range ly uy)\n",
    "    = Range\n",
    "        (((<>) `ala` (Option . fmap Max)) lx ly)\n",
    "        (((<>) `ala` (Option . fmap Min)) ux uy)\n",
    "\n",
    "instance Ord a => Semigroup (Range a) where\n",
    "    (<>) = union\n",
    "\n",
    "singletonRange :: (Enum a, Bounded a, Eq a) => a -> Range a\n",
    "singletonRange x\n",
    "  | x == maxBound = Range (Just x) Nothing\n",
    "  | otherwise = Range (Just x) (Just (succ x))"
   ]
  },
  {
   "cell_type": "markdown",
   "metadata": {},
   "source": [
    "# Huffman Encoding\n",
    "\n",
    "We're now able to write the algorithm for Huffman compression."
   ]
  },
  {
   "cell_type": "code",
   "execution_count": null,
   "metadata": {},
   "outputs": [],
   "source": [
    "import           Data.Maybe       (fromJust)\n",
    "import           Data.Semigroup   (Option(..), Semigroup(..))\n",
    "import           Data.Map.Strict  (Map)\n",
    "import qualified Data.Map.Strict  as Map\n",
    "import           IHaskell.Display (Display(..),html)\n",
    "import           Data.Bool        (bool)\n",
    "\n",
    "buildHuffman :: (Ord a, Semigroup a) => Heap a (Tree a b) -> Tree a b\n",
    "buildHuffman hp = case minView hp of\n",
    "    (_,x,Nothing) -> x\n",
    "    (i,x,Just xs) -> case minView xs of\n",
    "        (j,y,Nothing) -> Node (i <> j) x y\n",
    "        (j,y,Just ys) ->\n",
    "            buildHuffman (insertHeap (i <> j) (Node (i <> j) x y) ys)\n",
    "\n",
    "buildHeap :: Ord a => MeasureTable a b -> Heap a (Tree a b)\n",
    "buildHeap\n",
    "    = fromJust\n",
    "    . getOption\n",
    "    . Map.foldMapWithKey (\\v i -> Option (Just (Heap i (Leaf i v) [])))\n",
    "    . getMeasures\n",
    "\n",
    "huffmanTree :: (Ord a, Ord b, Semigroup b) => (a -> b) -> [a] -> Tree b a\n",
    "huffmanTree f = buildHuffman . buildHeap . buildMeasureTable f\n",
    "\n",
    "tree = huffmanTree (const 1) \"this is an example of a huffman tree\"\n",
    "tree\n",
    "\n",
    "data HuffmanTable a\n",
    "    = HuffmanTable\n",
    "    { huffmanTableVals :: [a]\n",
    "    , huffmanTableCode :: [Code]\n",
    "    }\n",
    "\n",
    "buildHuffmanTable :: Ord a => Tree c a -> [a] -> HuffmanTable a\n",
    "buildHuffmanTable tr xs = HuffmanTable xs (map (mp Map.!) xs)\n",
    "  where\n",
    "    mp = codeBook tr\n",
    "\n",
    "instance Show a => IHaskellDisplay (HuffmanTable a) where\n",
    "    display (HuffmanTable xs ys) = pure (Display [html go])\n",
    "      where\n",
    "        go\n",
    "            = unlines $\n",
    "            [ \"<table>\"\n",
    "            , \"<tr><th>Original</th><th>Code</th></tr>\" ] ++\n",
    "            zipWith tr xs ys ++\n",
    "            [ \"</table>\" ]\n",
    "        tr orig code\n",
    "            = concat \n",
    "            [ \"<tr><td style=\\\"text-align: center;\\\">\"\n",
    "            , show orig\n",
    "            , \"</td><td><pre style=\\\"text-align: left;\\\">\"\n",
    "            , map (bool '0' '1') code\n",
    "            , \"</pre></td></tr>\" ]\n",
    "\n",
    "buildHuffmanTable tree \"example\""
   ]
  },
  {
   "cell_type": "markdown",
   "metadata": {},
   "source": [
    "## Huffman Anonymity\n",
    "\n",
    "Huffman compression has a ready analogue in the form of $k$-anonymity <cite data-cite=\"2201627/S5ZJQFX5\"></cite>. By truncating the output of the Huffman compression, rows which occur fewer than $k$ times are not specified: instead, a prefix (which could correspond to some $n$ rows, $n \\geq k$) is provided.\n",
    "\n",
    "Taken from a different perspective, we build a Huffman tree from the rows in our database. Then, for each value in the database, we walk down the tree from root to the corresponding leaf, stopping if we hit a node that contains fewer than $k$ entries. Then, we output the summary of values at that point.\n",
    "\n",
    "This general procedure forms the basis for several of the anonymization algorithms.\n",
    "\n",
    "First, for data, let's use ages:"
   ]
  },
  {
   "cell_type": "code",
   "execution_count": null,
   "metadata": {},
   "outputs": [],
   "source": [
    "ages :: [Int]\n",
    "ages = [5,15,19,22,25,33,33,39,31,44,41,42,48,55,59,70]\n",
    "\n",
    "huffmanTree (const 1) ages"
   ]
  },
  {
   "cell_type": "markdown",
   "metadata": {},
   "source": [
    "Finally, we can draw the tree in its private form."
   ]
  },
  {
   "cell_type": "code",
   "execution_count": null,
   "metadata": {},
   "outputs": [],
   "source": [
    ":ext RecordWildCards\n",
    "\n",
    "import           Diagrams.TwoD.Layout.Tree (renderTree',symmLayout)\n",
    "import           Diagrams.Prelude          (text,fontSizeL,circle,fc\n",
    "                                           ,lc,white,pad,centerXY,(#)\n",
    "                                           ,(~~),opacity,bg)\n",
    "import           IHaskell.Display          (IHaskellDisplay(display)\n",
    "                                           ,latex,Display(ManyDisplay))\n",
    "import qualified Data.Tree                 as Rose\n",
    "import           Data.Semigroup            (Semigroup(..))\n",
    "import           Data.Semigroup.Foldable   (foldMap1)\n",
    "\n",
    "data PrivateTree a b c\n",
    "    = PrivateTree\n",
    "    { reveal    :: b -> Bool\n",
    "    , summarize :: Tree b a -> c\n",
    "    , tree      :: Tree b a\n",
    "    }\n",
    "\n",
    "instance (Show a, Show b, Show c)\n",
    "        => IHaskellDisplay (PrivateTree a b c) where\n",
    "    display PrivateTree {..} = \n",
    "        display $ diagram $ bg white $ drawTree $ toTree tree\n",
    "      where\n",
    "        toTree (Leaf i x) =\n",
    "            Rose.Node (reveal i, show i) [Rose.Node (reveal i, show x) []]\n",
    "        toTree nd@(Node i l r)\n",
    "          | reveal (measure l) && reveal (measure r) =\n",
    "               Rose.Node (reveal i, show i) [toTree l, toTree r]\n",
    "          | otherwise =\n",
    "              Rose.Node (reveal i, show i)\n",
    "                  [ Rose.Node (reveal i\n",
    "                              ,show (summarize nd))\n",
    "                        [ toHiddenTree l, toHiddenTree r ] ]\n",
    "                        \n",
    "        toHiddenTree (Node i l r) =\n",
    "            Rose.Node (False,show i)\n",
    "                [toHiddenTree l, toHiddenTree r]\n",
    "        toHiddenTree (Leaf i x) =\n",
    "            Rose.Node (False,show i)\n",
    "                [Rose.Node (True, show x) []]\n",
    "\n",
    "        drawTree\n",
    "            = pad 1.1\n",
    "            . centerXY\n",
    "            . renderTree'\n",
    "                (\\(b,n) -> text n # fontSizeL 0.2 # maybeOp b\n",
    "                        <> circle 0.2 # fc white # lc white)\n",
    "                (\\((lb,_),ll) ((rb,_),rr) -> maybeOp (lb&&rb) (ll ~~ rr))\n",
    "            . symmLayout\n",
    "        maybeOp True = id\n",
    "        maybeOp False  = opacity 0.5"
   ]
  },
  {
   "cell_type": "markdown",
   "metadata": {},
   "source": [
    "Using this, we can see the immediate problem with Huffman encoding for anonymity:"
   ]
  },
  {
   "cell_type": "code",
   "execution_count": null,
   "metadata": {},
   "outputs": [],
   "source": [
    "k2ages = PrivateTree (>2) (foldMap1 singletonRange)\n",
    "    (buildHuffman (buildHeap (buildFrequencies ages)))\n",
    "\n",
    "k2ages"
   ]
  },
  {
   "cell_type": "markdown",
   "metadata": {},
   "source": [
    "Ages are grouped together with values that are unrelated, yielding unsatisfactory generalizations. The anonymization produced is as follows:"
   ]
  },
  {
   "cell_type": "code",
   "execution_count": null,
   "metadata": {},
   "outputs": [],
   "source": [
    ":ext RecordWildCards\n",
    "\n",
    "import qualified Data.Map.Strict         as Map\n",
    "import           Data.Semigroup          (Semigroup(..))\n",
    "import           Data.Semigroup.Foldable (foldMap1)\n",
    "import           Data.Foldable           (foldl')\n",
    "import           IHaskell.Display        (IHaskellDisplay(display)\n",
    "                                         ,html,Display)\n",
    "import           Text.Printf             (printf)\n",
    "\n",
    "newtype AnonTable a b\n",
    "    = AnonTable\n",
    "    { getAnonTable :: [(a,b)]\n",
    "    }\n",
    "\n",
    "buildAnonTable :: (Ord a, Semigroup b)\n",
    "               => PrivateTree a b c -> [a] -> AnonTable a c\n",
    "buildAnonTable PrivateTree {..} xs\n",
    "    = AnonTable (map (\\x -> (x, m Map.! x)) xs)\n",
    "  where\n",
    "    m = go tree\n",
    "    go nd@(Node i l r)\n",
    "      | reveal (measure l) && reveal (measure r) = go l <> go r\n",
    "    go tr = foldMap (\\x -> Map.singleton x summary) tr\n",
    "      where summary = summarize tr\n",
    "\n",
    "instance (Show a, Show b) => IHaskellDisplay (AnonTable a b) where\n",
    "    display (AnonTable xs) = pure (Display [html (go xs)])\n",
    "      where\n",
    "        go tb\n",
    "            = unlines\n",
    "            $ \"<table>\"\n",
    "            : \"<tr><th>Original</th><th>Anonymized</th></tr>\"\n",
    "            : map (uncurry row) tb ++\n",
    "            [ \"</table>\" ]\n",
    "        row orig anon\n",
    "            = concat\n",
    "            [ \"<tr><td style=\\\"text-align: center;\\\">\"\n",
    "            , show orig\n",
    "            , \"</td><td style=\\\"text-align: center;\\\">\"\n",
    "            , show anon\n",
    "            , \"</td></tr>\" ]\n",
    "\n",
    "buildAnonTable k2ages ages"
   ]
  },
  {
   "cell_type": "markdown",
   "metadata": {},
   "source": [
    "Better generalizations can be achieved by building an *alphabetic* Huffman tree <cite data-cite=\"2201627/M35JL7I9\"></cite>."
   ]
  },
  {
   "cell_type": "code",
   "execution_count": null,
   "metadata": {},
   "outputs": [],
   "source": [
    "import           Control.Monad.State\n",
    "import qualified Data.Map.Strict     as Map\n",
    "import           Data.Foldable       (Foldable(..))\n",
    "\n",
    "buildAlphHuffman :: Frequencies a -> Tree Frequency a\n",
    "buildAlphHuffman xs = evalState (go c) (Map.toList (getMeasures xs))\n",
    "  where\n",
    "    c = toEnum (length xs)\n",
    "    go n = do\n",
    "      (x,i) <- gets head\n",
    "      if i >= n\n",
    "        then do\n",
    "          modify tail\n",
    "          pure (Leaf i x)\n",
    "        else do\n",
    "          let m = n `div` 2\n",
    "          ls <- go m\n",
    "          rs <- go (n - measure ls)\n",
    "          pure (Node (measure ls + measure rs) ls rs)\n",
    "\n",
    "alphHuffmanTree :: Ord a => [a] -> Tree Frequency a\n",
    "alphHuffmanTree = buildAlphHuffman . buildFrequencies\n",
    "\n",
    "k2agesAlph =\n",
    "    PrivateTree (2<) (foldMap1 singletonRange) (alphHuffmanTree ages)\n",
    "k2agesAlph\n",
    "buildAnonTable k2agesAlph ages"
   ]
  },
  {
   "cell_type": "markdown",
   "metadata": {},
   "source": [
    "# Arithmetic Coding for Privacy\n",
    "\n",
    "Arithmetic coding compresses data by encoding successively smaller and smaller intervals. For our purposes, it has two properties which are desirable:\n",
    "\n",
    "* It is a streaming algorithm, able to output the encoding for an input symbol once it has been received.\n",
    "* It parameterizes the notion of a \"model\": for compression, this allows intelligent prediction of things like \"a u is likely to come after a q\" (when compressing English text). Commonly, it facilitates the building of a frequency table on the fly. For our purposes, it will both build the frequency table on-the-fly, and potentially allow us to cluster similar data together.\n",
    "\n",
    "In order to use the algorithm for privacy, we will first emit a sequence of intervals, instead of a single number. This removes the capacity for compression. For instance, for the letters $a,b,c$, the following might be emitted:\n",
    "\n",
    "$$\\frac{1}{3},\\frac{1}{3},\\frac{1}{3}$$\n",
    "\n",
    "Secondly, we will use a model that builds a cumulative frequency table on the fly (e.g. with a Fenwick tree). This widens the interval for more frequently occurring symbols.\n",
    "\n",
    "Thirdly, we will truncate the output of the representation of each interval. In other words, we will widen every interval. The amount we widen by will be the minimum amount to make the interval larger than $\\frac{k}{n}$ where $n$ is the number of symbols seen so far.\n",
    "\n",
    "Finally, we will decompress as we compress, translating the intervals back into the values of the domain we are anonymizing. Because we have truncated the interval, it may span more than one value in our model. This is desired: it will happen only when $k$ is satisfied only through generalization.\n",
    "\n",
    "As a simple way to demonstrate the algorithm, we will use a perfect binary tree to count the cumulative frequencies:"
   ]
  },
  {
   "cell_type": "code",
   "execution_count": null,
   "metadata": {},
   "outputs": [],
   "source": [
    ":ext TypeSynonymInstances\n",
    ":ext FlexibleInstances\n",
    "\n",
    "import           Data.Bits\n",
    "import           IHaskell.Display          (IHaskellDisplay(display))\n",
    "import qualified Data.Tree                 as Rose\n",
    "import           Diagrams.TwoD.Layout.Tree (renderTree,symmLayout)\n",
    "import           Diagrams.Prelude          (text,fontSizeL,circle,fc\n",
    "                                           ,lc,white,pad,centerXY,(#)\n",
    "                                           ,(~~))\n",
    "import           Data.Maybe                (catMaybes,fromJust)\n",
    "\n",
    "data Nested a\n",
    "    = Perfect !a\n",
    "    | Nest !(Nested (Branch a))\n",
    "\n",
    "type Perfect = Nested ()\n",
    "\n",
    "foldPerfect :: (Word -> b -> Word -> b -> b) -> b -> Perfect -> b\n",
    "foldPerfect f = go f . const\n",
    "  where\n",
    "    go :: (Word -> b -> Word -> b -> b) -> (a -> b) -> Nested a -> b\n",
    "    go _ b (Perfect x) = b x\n",
    "    go f b (Nest t) = go f (\\(Branch ls l rs r) -> f ls (b l) rs (b r)) t\n",
    "\n",
    "data Branch a =\n",
    "    Branch {-# UNPACK #-} !Word\n",
    "           !a\n",
    "           {-# UNPACK #-} !Word\n",
    "           !a\n",
    "\n",
    "data Span = Span {-# UNPACK #-} !Word {-# UNPACK #-} !Word\n",
    "\n",
    "instance Show Span where\n",
    "    showsPrec n (Span l 0) = showsPrec n l\n",
    "    showsPrec _ (Span l o)\n",
    "        = showChar '['\n",
    "        . shows (shiftL l (fromEnum o))\n",
    "        . showChar ','\n",
    "        . shows (shiftL (l + 1) (fromEnum o))\n",
    "        . showChar ')'\n",
    "\n",
    "makePerfect :: Word -> Perfect\n",
    "makePerfect = mk ()\n",
    "  where\n",
    "    mk :: a -> Word -> Nested a\n",
    "    mk x 0 = Perfect x\n",
    "    mk x m = Nest (mk (Branch 0 x 0 x) (m - 1))\n",
    "\n",
    "incr :: Word -> Perfect -> Perfect\n",
    "incr i tr = go i 0 tr id\n",
    "  where\n",
    "    go :: Word -> Word -> Nested a -> (a -> a) -> Nested a\n",
    "    go _ _ (Perfect x) c = Perfect (c x)\n",
    "    go i p (Nest t) c =\n",
    "        Nest $\n",
    "        go i (p + 1) t $\n",
    "            \\(Branch sl l sr r) ->\n",
    "              if testBit i (fromEnum p)\n",
    "                then Branch sl l (sr + 1) (c r)\n",
    "                else Branch (sl + 1) (c l) sr r\n",
    "\n",
    "instance IHaskellDisplay Perfect where\n",
    "    display = display\n",
    "            . diagram\n",
    "            . drawTree\n",
    "            . res\n",
    "            . foldPerfect toTree []\n",
    "      where\n",
    "        toTree x l y r = [Rose.Node x l, Rose.Node y r]\n",
    "        res xs = Rose.Node (sum (map Rose.rootLabel xs)) xs\n",
    "        drawTree\n",
    "            = pad 1.1\n",
    "            . centerXY\n",
    "            . renderTree\n",
    "                (\\n -> text (show n) # fontSizeL 0.2\n",
    "                    <> circle 0.2 # fc white # lc white)\n",
    "                (~~)\n",
    "            . symmLayout\n",
    "                \n",
    "foldr incr (makePerfect 3) [0,3,3,2,6]"
   ]
  },
  {
   "cell_type": "markdown",
   "metadata": {},
   "source": [
    "Then, we can write a function that looks up an item in the tree *up until* the point where $k$ is no longer satisfied:"
   ]
  },
  {
   "cell_type": "code",
   "execution_count": null,
   "metadata": {},
   "outputs": [],
   "source": [
    "follow :: Int -> Word -> Perfect -> Span\n",
    "follow k' i tr = foldPerfect go Span tr 0 k\n",
    "  where\n",
    "    k = toEnum k'\n",
    "    go sl lt sr rt l p\n",
    "      | sl < k || sr < k = Span l p\n",
    "      | testBit i (fromEnum p - 1) = rt (shiftL l 1 .|. 1) (p - 1)\n",
    "      | otherwise = lt (shiftL l 1) (p - 1)"
   ]
  },
  {
   "cell_type": "markdown",
   "metadata": {},
   "source": [
    "The advantage of this approach is that it maintains $k$-anonymity incrementally. Take, for instance, this small list of values between $0$ and $4$:"
   ]
  },
  {
   "cell_type": "code",
   "execution_count": null,
   "metadata": {},
   "outputs": [],
   "source": [
    "smallVals = [1,2,1,3,2,0,1,0,3]\n",
    "\n",
    "import Data.Traversable (mapAccumL)\n",
    "import Data.List        (inits)\n",
    "\n",
    "incrementalAnon :: Int -> Word -> [Word] -> [[Span]]\n",
    "incrementalAnon k sz xs\n",
    "    = snd \n",
    "    $ mapAccumL\n",
    "        anon\n",
    "        (makePerfect sz)\n",
    "        (zip xs (tail (inits xs)))\n",
    "  where\n",
    "    anon tr (v,vs) = (i,traverse (follow k) vs i)\n",
    "      where\n",
    "        i = incr v tr\n",
    "\n",
    "mapM_ print (incrementalAnon 2 2 [1,2,1,3,2,0,1,0,3])"
   ]
  },
  {
   "cell_type": "markdown",
   "metadata": {},
   "source": [
    "# Incremental Anonymity\n",
    "\n",
    "Incrementally anonymizing a database can potentially leak private data <cite data-cite=\"2201627/HWXFFBRT\"></cite>. For instance, take the following values:"
   ]
  },
  {
   "cell_type": "code",
   "execution_count": null,
   "metadata": {},
   "outputs": [],
   "source": [
    "incrementalTree = PrivateTree (2<) (foldMap1 singletonRange) (alphHuffmanTree [1..5])\n",
    "incrementalTable = buildAnonTable incrementalTree [1..5]\n",
    "incrementalTable"
   ]
  },
  {
   "cell_type": "markdown",
   "metadata": {},
   "source": [
    "If another $3$ is added to the database:"
   ]
  },
  {
   "cell_type": "code",
   "execution_count": null,
   "metadata": {},
   "outputs": [],
   "source": [
    "nextTree = PrivateTree (2<) (foldMap1 singletonRange) (alphHuffmanTree [1,2,3,4,5,3])\n",
    "nextTable = buildAnonTable nextTree [1,2,3,4,5,3]\n",
    "nextTable"
   ]
  },
  {
   "cell_type": "markdown",
   "metadata": {},
   "source": [
    "If both of these anonymizations are released, we could take their row-wise intersection, thereby revealing much more information than we intended."
   ]
  },
  {
   "cell_type": "code",
   "execution_count": null,
   "metadata": {},
   "outputs": [],
   "source": [
    "import Data.Function  (on)\n",
    "import Data.Semigroup (Max(..),Min(..),Option(..),(<>))\n",
    "\n",
    "\n",
    "\n",
    "AnonTable (zip [1..]\n",
    "          ((zipWith (intersection `on` snd) `on` getAnonTable)\n",
    "          incrementalTable nextTable))"
   ]
  },
  {
   "cell_type": "markdown",
   "metadata": {},
   "source": [
    "The solution might seem simple: just don't change the anonymization of previous entries. But this is actually sub-optimal, leaving earlier more conservative than they need to be.\n",
    "\n",
    "The problem is related to *tree-balancing*. For search trees, we want to balance to reduce search cost, but reduce the frequency of balancing to reduce insertion cost: here, we want to balance to increase information gain, but reduce frequency of balancing to avoid revealing private internal structure.\n",
    "\n",
    "It's worth noting that we're not concerned with the overall frequency of balances, rather the rebalancing per release. After all, if we only release one copy of the anonymized data set, we need not be concerned with incremental privacy at all."
   ]
  },
  {
   "cell_type": "markdown",
   "metadata": {},
   "source": [
    "# Generalized Balance\n",
    "\n",
    "In the previous section, we saw that we could generalize the \"cost of rebalancing\" to describe incremental anonymity. Other notions from the theory of search trees can be generalized similarly, in particular *balance*.\n",
    "\n",
    "One generalization applies to $l$-diversity <cite data-cite=\"2201627/E9354EJL\"></cite>.\n",
    "\n",
    "Let's take a database with a sensitive row, perhaps voting preference:"
   ]
  },
  {
   "cell_type": "code",
   "execution_count": null,
   "metadata": {},
   "outputs": [],
   "source": [
    "import Control.Arrow ((***))\n",
    "import Text.Printf   (PrintfArg(..),formatChar)\n",
    "\n",
    "data VotingPref\n",
    "    = D\n",
    "    | R\n",
    "    deriving (Show,Eq,Ord,Enum,Bounded)\n",
    "\n",
    "instance PrintfArg VotingPref where\n",
    "    formatArg D = formatChar 'D'\n",
    "    formatArg R = formatChar 'R'\n",
    "\n",
    "agesAndVotes = zip ages [D,R,D,D,R,D,R,R,R,R,D,D,R,R,D,D]\n",
    "agesAndVotesTree = PrivateTree (2<=)\n",
    "    (foldMap1 (singletonRange *** singletonRange)) (alphHuffmanTree agesAndVotes)\n",
    "agesAndVotesTable = buildAnonTable agesAndVotesTree agesAndVotes\n",
    "agesAndVotesTree\n",
    "agesAndVotesTable"
   ]
  },
  {
   "cell_type": "markdown",
   "metadata": {},
   "source": [
    "As you can see, while $k$-anonymity has indeed been preserved, most rows in the table have had their voting preference revealed. To counteract that, we can balance the voting preference when building the tree: however, this ups the complexity of the procedure."
   ]
  },
  {
   "cell_type": "markdown",
   "metadata": {},
   "source": [
    "# Randomization\n",
    "\n",
    "Providing an equivalence class for each $k$-anonymous value is problematic in 2 ways:\n",
    "\n",
    "* It allows an adversary to intersect the members of this class with future releases, revealing more information that originally intended.\n",
    "* It doesn't provide distribution information on the members of the class.\n",
    "\n",
    "While we could remedy the second point by providing a histogram instead of a set, but that would exacerbate the problem of the first.\n",
    "\n",
    "Instead, we can randomize the output from the tree traversal, providing a concrete value that may have noise added in the output. This will allow us to output a representative table, with the distributions similar to the private table, but also it will hide the equivalence groupings we use in the tree, allowing us to aggressively rebalance when necessary.\n",
    "\n",
    "This concept maps on to group differential privacy.\n",
    "\n",
    "The idea is as follows: for every row, we're going to choose one bit to replace with a fairly chosen representative of that bit, based on the histogram of the table. The $\\epsilon$ (of $\\epsilon$-differential privacy) is given by the difference in size of the two branches, over the sum in the size of the two branches. For instance, in the following table:"
   ]
  },
  {
   "cell_type": "code",
   "execution_count": null,
   "metadata": {
    "scrolled": false
   },
   "outputs": [],
   "source": [
    "table = \"aabbbcdee\"\n",
    "\n",
    "simpleTree = huffmanTree (const 1) table\n",
    "simpleTree\n",
    "buildHuffmanTable simpleTree table"
   ]
  },
  {
   "cell_type": "markdown",
   "metadata": {},
   "source": [
    "Replacing the last bit in the first 'b' with a histogram would provide:\n",
    "\n",
    "$$\\epsilon = \\frac{3-2}{3+2}$$\n",
    "\n",
    "$\\epsilon$-differential privacy. However, since it's from a subset of the database of size $5$, there are going to be $5$ differentially private queries on that subset. So, it would actually only provide:\n",
    "\n",
    "$$\\epsilon = \\frac{1}{5^2}$$\n",
    "\n",
    "$\\epsilon$-differential privacy.\n",
    "\n",
    "For every row in the database, we can replace one bit with its histogram representation: the equation above gives the privacy provided by replacing that bit. Obviously, the privacy provided by replacing later bits is much greater than that of earlier."
   ]
  },
  {
   "cell_type": "code",
   "execution_count": null,
   "metadata": {},
   "outputs": [],
   "source": [
    "import Data.Ratio    ((%))\n",
    "import Data.Function (on)\n",
    "\n",
    "diffPrivacy :: Tree Frequency a -> Rational\n",
    "diffPrivacy (Node i l r)\n",
    "    = abs (((-) `on` (toInteger.measure)) l r) % toInteger (i * i)\n",
    "diffPrivacy (Leaf _ _) = 0"
   ]
  },
  {
   "cell_type": "markdown",
   "metadata": {},
   "source": [
    "To use this for releasing private information, we will first need to have a way to generate a random bit from a histogram:"
   ]
  },
  {
   "cell_type": "code",
   "execution_count": null,
   "metadata": {},
   "outputs": [],
   "source": [
    ":ext StandaloneDeriving\n",
    "\n",
    "import System.Random       (RandomGen, randomR, getStdRandom, Random(..))\n",
    "import Control.Monad.State (StateT, state, runState, runStateT)\n",
    "import Data.Bool           (bool)\n",
    "\n",
    "instance Random Frequency where\n",
    "    randomR (lo,hi) g = case randomR (toInteger lo, toInteger hi) g of\n",
    "        (res,g') -> (fromInteger res, g')\n",
    "    random g = case random g of\n",
    "        (res,g') -> (fromInteger (abs res), g')\n",
    "\n",
    "\n",
    "choose :: (RandomGen g, Applicative m, Monoid a, Random a, Ord a)\n",
    "       => a -> a -> StateT g m Bool\n",
    "choose f t = StateT (\\g -> case randomR (mempty, f `mappend` t) g of\n",
    "  (n,g') -> pure (f <= n,g'))\n",
    "\n",
    "getStdRandom (randomR (1 :: Integer, 10 :: Integer))\n",
    "--getFrequency <$> getStdRandom (randomR (0,10))\n",
    "\n",
    "--getStdRandom (runState (replicateM 2 (bool '0' '1' <$> choose 1 1)))"
   ]
  },
  {
   "cell_type": "markdown",
   "metadata": {},
   "source": [
    "Then, we'll need to be able to randomly choose an item from a histogram (represented as a tree):"
   ]
  },
  {
   "cell_type": "code",
   "execution_count": null,
   "metadata": {},
   "outputs": [],
   "source": [
    "select :: (RandomGen g, Monad m, Monoid b, Random b, Ord b) => Tree b a -> StateT g m a\n",
    "select (Leaf _ x) = pure x\n",
    "select (Node _ l r) = choose (measure l) (measure r)\n",
    "                  >>= bool (select l) (select r)"
   ]
  },
  {
   "cell_type": "code",
   "execution_count": null,
   "metadata": {},
   "outputs": [],
   "source": [
    "import Data.Bool (bool)\n",
    "\n",
    "subtrees :: [Bool] -> Tree b a -> [Tree b a]\n",
    "subtrees = foldr f b where\n",
    "  b = (:[])\n",
    "  f side acc tr = tr : case tr of\n",
    "    Leaf _ _ -> []\n",
    "    Node _ l r -> acc (bool l r side)\n",
    "\n",
    "last :: Foldable f => f a -> Maybe a\n",
    "last = foldl (const Just) Nothing\n",
    "\n",
    "diffAnonymize :: RandomGen g\n",
    "              => Rational\n",
    "              -> [Bool]\n",
    "              -> Tree Frequency a\n",
    "              -> Maybe (State g a)\n",
    "diffAnonymize eps xs\n",
    "    = fmap select\n",
    "    . last\n",
    "    . filter (\\st -> diffPrivacy st > eps)\n",
    "    . subtrees xs\n",
    "\n",
    "randAnon :: (Ord a, RandomGen g) => Rational -> [a] -> Maybe (State g [a])\n",
    "randAnon k xs = sequence <$> traverse (\\x -> diffAnonymize k (mp Map.! x) tr) xs\n",
    "  where\n",
    "    tr = alphHuffmanTree xs\n",
    "    mp = codeBook tr\n",
    "\n",
    "import Statistics.Distribution.Normal\n",
    "import System.Random.MWC\n",
    "import Statistics.Distribution\n",
    "\n",
    "randVar :: IO Double\n",
    "randVar = withSystemRandom (genContVar (normalDistr 40 5) `asTypeOf`\n",
    "                            const (undefined :: IO Double))\n",
    "\n",
    "randAges <- filter (0<) <$> replicateM 100 randVar\n",
    "anonRandAges <- getStdRandom (runState (fromJust (randAnon 0 randAges)))\n",
    "\n",
    "randAges == anonRandAges"
   ]
  },
  {
   "cell_type": "code",
   "execution_count": null,
   "metadata": {},
   "outputs": [],
   "source": [
    "histogram 2 10 randAges\n",
    "histogram 2 10 anonRandAges"
   ]
  }
 ],
 "metadata": {
  "cite2c": {
   "citations": {
    "2201627/9H95638W": {
     "DOI": "10.1007/BF01840439",
     "URL": "http://www.cs.princeton.edu/courses/archive/fall09/cos521/Handouts/pairingheaps.pdf",
     "abstract": "Recently, Fredman and Tarjan invented a new, especially efficient form of heap (priority queue) called theFibonacci heap. Although theoretically efficient, Fibonacci heaps are complicated to implement and not as fast in practice as other kinds of heaps. In this paper we describe a new form of heap, called thepairing heap, intended to be competitive with the Fibonacci heap in theory and easy to implement and fast in practice. We provide a partial complexity analysis of pairing heaps. Complete analysis remains an open problem.",
     "accessed": {
      "day": 21,
      "month": 4,
      "year": 2017
     },
     "author": [
      {
       "family": "Fredman",
       "given": "Michael L."
      },
      {
       "family": "Sedgewick",
       "given": "Robert"
      },
      {
       "family": "Sleator",
       "given": "Daniel D."
      },
      {
       "family": "Tarjan",
       "given": "Robert E."
      }
     ],
     "container-title": "Algorithmica",
     "container-title-short": "Algorithmica",
     "id": "2201627/9H95638W",
     "issue": "1-4",
     "issued": {
      "month": 1,
      "year": 1986
     },
     "journalAbbreviation": "Algorithmica",
     "language": "en",
     "page": "111-129",
     "page-first": "111",
     "shortTitle": "The pairing heap",
     "title": "The pairing heap: A new form of self-adjusting heap",
     "title-short": "The pairing heap",
     "type": "article-journal",
     "volume": "1"
    },
    "2201627/E9354EJL": {
     "DOI": "10.1109/ICDE.2006.1",
     "abstract": "Publishing data about individuals without revealing sensitive information about them is an important problem. In recent years, a new definition of privacy called kappa-anonymity has gained popularity. In a kappa-anonymized dataset, each record is indistinguishable from at least k—1 other records with respect to certain \"identifying\" attributes. In this paper we show with two simple attacks that a kappa-anonymized dataset has some subtle, but severe privacy problems. First, we show that an attacker can discover the values of sensitive attributes when there is little diversity in those sensitive attributes. Second, attackers often have background knowledge, and we show that kappa-anonymity does not guarantee privacy against attackers using background knowledge. We give a detailed analysis of these two attacks and we propose a novel and powerful privacy definition called ell-diversity. In addition to building a formal foundation for ell-diversity, we show in an experimental evaluation that ell-diversity is practical and can be implemented efficiently.",
     "author": [
      {
       "family": "Machanavajjhala",
       "given": "A."
      },
      {
       "family": "Gehrke",
       "given": "J."
      },
      {
       "family": "Kifer",
       "given": "D."
      },
      {
       "family": "Venkitasubramaniam",
       "given": "M."
      }
     ],
     "container-title": "22nd International Conference on Data Engineering (ICDE'06)",
     "event": "22nd International Conference on Data Engineering (ICDE'06)",
     "id": "2201627/E9354EJL",
     "issued": {
      "month": 4,
      "year": 2006
     },
     "page": "24-24",
     "page-first": "24",
     "shortTitle": "L-diversity",
     "title": "L-diversity: privacy beyond k-anonymity",
     "title-short": "L-diversity",
     "type": "paper-conference"
    },
    "2201627/HWXFFBRT": {
     "DOI": "10.1109/SSDBM.2007.16",
     "abstract": "K-anonymity is a simple yet practical mechanismto protect privacy against attacks of re-identifying individuals by joining multiple public data sources. All existing methods achieving k-anonymity assume implicitly that the data objects to be anonymized are given once and fixed. However, in many applications, the real world data sources are dynamic. In this paper, we investigate the problem of maintaining k-anonymity against incremental updates, and propose a simple yet effective solution. We analyze how inferences from multiple releases may temper the k-anonymity of data, and propose the monotonic incremental anonymization property. The general idea is to progressively and consistently reduce the generalization granularity as incremental updates arrive. Our new approach guarantees the k-anonymity on each release, and also on the inferred table using multiple releases. At the same time, our new approach utilizes the more and more accumulated data to reduce the information loss.",
     "author": [
      {
       "family": "Pei",
       "given": "J."
      },
      {
       "family": "Xu",
       "given": "J."
      },
      {
       "family": "Wang",
       "given": "Z."
      },
      {
       "family": "Wang",
       "given": "W."
      },
      {
       "family": "Wang",
       "given": "K."
      }
     ],
     "container-title": "19th International Conference on Scientific and Statistical Database Management (SSDBM 2007)",
     "event": "19th International Conference on Scientific and Statistical Database Management (SSDBM 2007)",
     "id": "2201627/HWXFFBRT",
     "issued": {
      "month": 7,
      "year": 2007
     },
     "page": "5-5",
     "page-first": "5",
     "title": "Maintaining K-Anonymity against Incremental Updates",
     "type": "paper-conference"
    },
    "2201627/M35JL7I9": {
     "DOI": "10.1137/0205002",
     "URL": "https://epubs.siam.org/doi/abs/10.1137/0205002",
     "abstract": "An algorithm of Knuth for finding an optimal binary tree is extended in several directions to solve related problems. The first case considered is restricting the depth of the tree by some predetermined integer K, and a $Kn^2 $ algorithm is given. Next, for trees of degree $\\sigma $, rather than binary trees, $Kn^2 \\log \\sigma $ and $n^2 \\log \\sigma $ algorithms are found for the restricted and nonrestricted cases, respectively. For alphabetic trees with letters of unequal cost, $\\sigma ^2 n^2 $ algorithm is proposed. We conclude with a comparison of alphabetic and nonalphabetic trees and their respective complexities.",
     "accessed": {
      "day": 30,
      "month": 3,
      "year": 2018
     },
     "author": [
      {
       "family": "Itai",
       "given": "A."
      }
     ],
     "container-title": "SIAM Journal on Computing",
     "container-title-short": "SIAM J. Comput.",
     "id": "2201627/M35JL7I9",
     "issue": "1",
     "issued": {
      "day": 1,
      "month": 3,
      "year": 1976
     },
     "journalAbbreviation": "SIAM J. Comput.",
     "page": "9-18",
     "page-first": "9",
     "title": "Optimal Alphabetic Trees",
     "type": "article-journal",
     "volume": "5"
    },
    "2201627/S5ZJQFX5": {
     "DOI": "10.1142/S0218488502001648",
     "URL": "http://dx.doi.org/10.1142/S0218488502001648",
     "abstract": "Consider a data holder, such as a hospital or a bank, that has a privately held collection of person-specific, field structured data. Suppose the data holder wants to share a version of the data with researchers. How can a data holder release a version of its private data with scientific guarantees that the individuals who are the subjects of the data cannot be re-identified while the data remain practically useful? The solution provided in this paper includes a formal protection model named k-anonymity and a set of accompanying policies for deployment. A release provides k-anonymity protection if the information for each person contained in the release cannot be distinguished from at least k-1 individuals whose information also appears in the release. This paper also examines re-identification attacks that can be realized on releases that adhere to k- anonymity unless accompanying policies are respected. The k-anonymity protection model is important because it forms the basis on which the real-world systems known as Datafly, µ-Argus and k-Similar provide guarantees of privacy protection.",
     "accessed": {
      "day": 11,
      "month": 4,
      "year": 2018
     },
     "author": [
      {
       "family": "Sweeney",
       "given": "Latanya"
      }
     ],
     "container-title": "Int. J. Uncertain. Fuzziness Knowl.-Based Syst.",
     "id": "2201627/S5ZJQFX5",
     "issue": "5",
     "issued": {
      "month": 10,
      "year": 2002
     },
     "page": "557–570",
     "page-first": "557",
     "shortTitle": "K-anonymity",
     "title": "K-anonymity: A Model for Protecting Privacy",
     "title-short": "K-anonymity",
     "type": "article-journal",
     "volume": "10"
    }
   }
  },
  "kernelspec": {
   "display_name": "Haskell",
   "language": "haskell",
   "name": "haskell"
  },
  "language_info": {
   "codemirror_mode": "ihaskell",
   "file_extension": ".hs",
   "name": "haskell",
   "version": "8.2.2"
  },
  "latex_envs": {
   "LaTeX_envs_menu_present": true,
   "autoclose": false,
   "autocomplete": true,
   "bibliofile": "biblio.bib",
   "cite_by": "apalike",
   "current_citInitial": 1,
   "eqLabelWithNumbers": true,
   "eqNumInitial": 1,
   "hotkeys": {
    "equation": "Ctrl-E",
    "itemize": "Ctrl-I"
   },
   "labels_anchors": false,
   "latex_user_defs": false,
   "report_style_numbering": false,
   "user_envs_cfg": false
  }
 },
 "nbformat": 4,
 "nbformat_minor": 2
}

{
 "cells": [
  {
   "cell_type": "markdown",
   "metadata": {},
   "source": [
    "# Compression Anonymity\n",
    "\n",
    "This notebook explores several avenues of using compression and common compression schemes to provide anonymity and privacy. First, we'll write a simple implementation of Huffman encoding, but make it generic enough so that it can be tweaked to provide privacy instead of compression."
   ]
  },
  {
   "cell_type": "markdown",
   "metadata": {},
   "source": [
    "# Preliminaries\n",
    "\n",
    "Before writing any code for privacy, we'll need the basic data structures and building blocks we're going to use throughout this notebook to write the compression algorithms."
   ]
  },
  {
   "cell_type": "markdown",
   "metadata": {},
   "source": [
    "## Setup"
   ]
  },
  {
   "cell_type": "code",
   "execution_count": 1,
   "metadata": {},
   "outputs": [],
   "source": [
    ":ext RebindableSyntax\n",
    ":ext NoImplicitPrelude\n",
    ":opt svg\n",
    "\n",
    "import Privacy.Prelude\n",
    "\n",
    "default (Natural, Integer, Word, Int, Ratio Natural, Rational, Double)"
   ]
  },
  {
   "cell_type": "markdown",
   "metadata": {},
   "source": [
    "## Algebras\n",
    "\n",
    "We'll rely on three main concepts to generalize the compression algorithms.\n",
    "\n",
    "### Information\n",
    "\n",
    "When anonymizing information, we'll need a general way to talk about the \"information\" a set contains. This is well represented by an information algebra: it's similar to a measure on a set, but has fewer constraints. We'll represent it here as a simple function:"
   ]
  },
  {
   "cell_type": "code",
   "execution_count": 2,
   "metadata": {},
   "outputs": [],
   "source": [
    "type Information a b = a -> b"
   ]
  },
  {
   "cell_type": "markdown",
   "metadata": {},
   "source": [
    "The simplest type of \"information\" is the number of elements a set contains. (the \"counting\" measure)"
   ]
  },
  {
   "cell_type": "code",
   "execution_count": 3,
   "metadata": {},
   "outputs": [],
   "source": [
    ":ext GeneralizedNewtypeDeriving\n",
    "\n",
    "import Graphics.Rendering.Chart.Plot.Bars (BarsPlotValue)\n",
    "import Graphics.Rendering.Chart.Axis.Types (PlotValue)\n",
    "\n",
    "newtype Count\n",
    "    = Count\n",
    "    { getCount :: Natural\n",
    "    } deriving (Eq,Ord,NaturalLiteral,PlotValue,BarsPlotValue)\n",
    "    \n",
    "instance Show Count where\n",
    "    showsPrec n (Count x) = showsPrec n x\n",
    "\n",
    "count :: Information a Count\n",
    "count _ = Count 1"
   ]
  },
  {
   "cell_type": "markdown",
   "metadata": {},
   "source": [
    "Two useful other notions of information are ranges:"
   ]
  },
  {
   "cell_type": "code",
   "execution_count": 4,
   "metadata": {},
   "outputs": [],
   "source": [
    "data Range a\n",
    "    = Range\n",
    "    { lowerBound :: a\n",
    "    , upperBound :: a\n",
    "    } deriving (Eq, Ord)\n",
    "\n",
    "range :: Information a (Range a)\n",
    "range x = Range x x\n",
    "\n",
    "instance (Show a, Eq a) => Show (Range a) where\n",
    "    show (Range lb ub)\n",
    "        | lb == ub = show lb \n",
    "        | otherwise = \"[\" ++ show lb ++ \",\" ++ show ub ++ \"]\"\n",
    "\n",
    "instance NaturalLiteral a => NaturalLiteral (Range a) where\n",
    "    fromNatural = range . fromNatural"
   ]
  },
  {
   "cell_type": "markdown",
   "metadata": {},
   "source": [
    "And the set of unique elements:"
   ]
  },
  {
   "cell_type": "code",
   "execution_count": 5,
   "metadata": {},
   "outputs": [],
   "source": [
    "import Data.Set (Set)\n",
    "import qualified Data.Set as Set\n",
    "\n",
    "elements :: Information a (Set a)\n",
    "elements = Set.singleton"
   ]
  },
  {
   "cell_type": "markdown",
   "metadata": {},
   "source": [
    "### Semirings\n",
    "\n",
    "When manipulating information, we'll often want to generalize and focus on information. These ideas are neatly encapsulated by a \"semirig\".\n",
    "\n",
    "Semirigs go by several different definitions in the literature: here we'll only require 2 operations. \"Generalization\" is a union-like operation, which we'll call $+$; \"refinement\" is an intersection-like operation, which we can call $\\times$. They include the usual associativity and distributivity laws."
   ]
  },
  {
   "cell_type": "code",
   "execution_count": 6,
   "metadata": {},
   "outputs": [
    {
     "data": {
      "text/html": [
       "<style>/* Styles used for the Hoogle display in the pager */\n",
       ".hoogle-doc {\n",
       "display: block;\n",
       "padding-bottom: 1.3em;\n",
       "padding-left: 0.4em;\n",
       "}\n",
       ".hoogle-code {\n",
       "display: block;\n",
       "font-family: monospace;\n",
       "white-space: pre;\n",
       "}\n",
       ".hoogle-text {\n",
       "display: block;\n",
       "}\n",
       ".hoogle-name {\n",
       "color: green;\n",
       "font-weight: bold;\n",
       "}\n",
       ".hoogle-head {\n",
       "font-weight: bold;\n",
       "}\n",
       ".hoogle-sub {\n",
       "display: block;\n",
       "margin-left: 0.4em;\n",
       "}\n",
       ".hoogle-package {\n",
       "font-weight: bold;\n",
       "font-style: italic;\n",
       "}\n",
       ".hoogle-module {\n",
       "font-weight: bold;\n",
       "}\n",
       ".hoogle-class {\n",
       "font-weight: bold;\n",
       "}\n",
       ".get-type {\n",
       "color: green;\n",
       "font-weight: bold;\n",
       "font-family: monospace;\n",
       "display: block;\n",
       "white-space: pre-wrap;\n",
       "}\n",
       ".show-type {\n",
       "color: green;\n",
       "font-weight: bold;\n",
       "font-family: monospace;\n",
       "margin-left: 1em;\n",
       "}\n",
       ".mono {\n",
       "font-family: monospace;\n",
       "display: block;\n",
       "}\n",
       ".err-msg {\n",
       "color: red;\n",
       "font-style: italic;\n",
       "font-family: monospace;\n",
       "white-space: pre;\n",
       "display: block;\n",
       "}\n",
       "#unshowable {\n",
       "color: red;\n",
       "font-weight: bold;\n",
       "}\n",
       ".err-msg.in.collapse {\n",
       "padding-top: 0.7em;\n",
       "}\n",
       ".highlight-code {\n",
       "white-space: pre;\n",
       "font-family: monospace;\n",
       "}\n",
       ".suggestion-warning { \n",
       "font-weight: bold;\n",
       "color: rgb(200, 130, 0);\n",
       "}\n",
       ".suggestion-error { \n",
       "font-weight: bold;\n",
       "color: red;\n",
       "}\n",
       ".suggestion-name {\n",
       "font-weight: bold;\n",
       "}\n",
       "</style><span class='err-msg'>&lt;interactive&gt;:7:10: error:<br/>    Duplicate instance declarations:<br/>      instance Ord a =&gt; Semirig (Set a) -- Defined at &lt;interactive&gt;:7:10<br/>      instance Ord a =&gt; Semirig (Set a) -- Defined in ‘Algebra.Semirig’</span>"
      ],
      "text/plain": [
       "<interactive>:7:10: error:\n",
       "    Duplicate instance declarations:\n",
       "      instance Ord a => Semirig (Set a) -- Defined at <interactive>:7:10\n",
       "      instance Ord a => Semirig (Set a) -- Defined in ‘Algebra.Semirig’"
      ]
     },
     "metadata": {},
     "output_type": "display_data"
    }
   ],
   "source": [
    "instance Semirig Count where\n",
    "    (+) = (+) `ala` getCount\n",
    "    (*) = (*) `ala` getCount\n",
    "\n",
    "instance Ord a => Semirig (Range a) where\n",
    "    Range xl xu + Range yl yu = Range (min xl yl) (max xu yu)\n",
    "    Range xl xu * Range yl yu = Range (max xl yl) (min xu yu)\n",
    "\n",
    "instance Ord a => Semirig (Set a) where\n",
    "    (+) = Set.union\n",
    "    (*) = Set.intersection"
   ]
  },
  {
   "cell_type": "markdown",
   "metadata": {},
   "source": [
    "A more interesting type is perhaps a histogram:"
   ]
  },
  {
   "cell_type": "code",
   "execution_count": null,
   "metadata": {},
   "outputs": [],
   "source": [
    "import Algebra.Information.Histogram\n",
    "\n",
    ":ext TypeApplications\n",
    ":ext FlexibleContexts\n",
    ":ext DataKinds\n",
    "\n",
    "generalizeTo\n",
    "    (histogramOf count)\n",
    "    (nonEmpty @ \"this is an example of a frequency table\")"
   ]
  },
  {
   "cell_type": "markdown",
   "metadata": {},
   "source": [
    "We'll display histograms of continuous data slightly differently:"
   ]
  },
  {
   "cell_type": "code",
   "execution_count": null,
   "metadata": {},
   "outputs": [],
   "source": [
    "import Graphics.Rendering.Chart.Plot.Histogram.Simple\n",
    "\n",
    "contHist 10 0 [6,2,3,1,36,38,27]"
   ]
  },
  {
   "cell_type": "code",
   "execution_count": null,
   "metadata": {},
   "outputs": [],
   "source": [
    "data Range a\n",
    "    = Range\n",
    "    { lowerBound :: a\n",
    "    , upperBound :: a\n",
    "    } deriving (Eq, Ord)\n",
    "\n",
    "inRange :: Ord a => a -> Range a -> Bool\n",
    "inRange x (Range l u) = x >= l && x <= u\n",
    "\n",
    "instance (Show a, Eq a) => Show (Range a) where\n",
    "    show (Range lb ub)\n",
    "        | lb == ub = show lb \n",
    "        | otherwise = \"[\" ++ show lb ++ \",\" ++ show ub ++ \"]\"\n",
    "\n",
    "instance NaturalLiteral a => NaturalLiteral (Range a) where\n",
    "    fromNatural n = Range (fromNatural n) (fromNatural n)\n",
    "    \n",
    "\n",
    "instance (MinBound a, MaxBound a) => RigZ (Range a) where\n",
    "    zer = Range minBound maxBound"
   ]
  },
  {
   "cell_type": "markdown",
   "metadata": {},
   "source": [
    "### Information\n",
    "\n",
    "While a semirig lets us intersect and generalize information, in order to actually get that information from a set, we'll need information algebras."
   ]
  },
  {
   "cell_type": "code",
   "execution_count": null,
   "metadata": {},
   "outputs": [],
   "source": [
    "type Information a b = a -> b"
   ]
  },
  {
   "cell_type": "markdown",
   "metadata": {},
   "source": [
    "The range type above has a simple algebra:"
   ]
  },
  {
   "cell_type": "code",
   "execution_count": null,
   "metadata": {},
   "outputs": [],
   "source": [
    "range :: Information a (Range a)\n",
    "range x = Range x x"
   ]
  },
  {
   "cell_type": "code",
   "execution_count": null,
   "metadata": {},
   "outputs": [],
   "source": [
    "More interesting, perhaps, is a histogram:"
   ]
  },
  {
   "cell_type": "markdown",
   "metadata": {},
   "source": [
    "### Measures\n",
    "\n",
    "In order to compare the \"weight\" of one information to another, we'll need a way to order them."
   ]
  },
  {
   "cell_type": "code",
   "execution_count": null,
   "metadata": {},
   "outputs": [],
   "source": [
    "import Data.Functor.Contravariant\n",
    "\n",
    "rangeSize :: (Semirig a, Ord a) => Comparison (Range a)\n",
    "rangeSize = Comparison (\\(Range xl xu) (Range yl yu) -> compare (xu + yl) (yu + xl))"
   ]
  },
  {
   "cell_type": "markdown",
   "metadata": {},
   "source": [
    "We can also have a measure for diversity:"
   ]
  },
  {
   "cell_type": "code",
   "execution_count": null,
   "metadata": {},
   "outputs": [],
   "source": [
    "import Data.Set (Set)\n",
    "import qualified Data.Set as Set\n",
    "\n",
    "diversity :: Comparison (Set a)\n",
    "diversity = Comparison (comparing Set.size)"
   ]
  },
  {
   "cell_type": "markdown",
   "metadata": {},
   "source": [
    "A more interesting one is a histogram:"
   ]
  },
  {
   "cell_type": "code",
   "execution_count": null,
   "metadata": {},
   "outputs": [],
   "source": [
    "import Algebra.Information.Histogram\n",
    "\n",
    "-- :info Histogram"
   ]
  },
  {
   "cell_type": "markdown",
   "metadata": {},
   "source": [
    "We can print out the histogram as a chart:"
   ]
  },
  {
   "cell_type": "code",
   "execution_count": null,
   "metadata": {},
   "outputs": [],
   "source": [
    "generalize \"this is an example of a frequency table\" :: Histogram Count Char"
   ]
  },
  {
   "cell_type": "markdown",
   "metadata": {},
   "source": [
    "However, continuous data is better represented in a chart like so:"
   ]
  },
  {
   "cell_type": "markdown",
   "metadata": {},
   "source": [
    "## A Binary Tree\n",
    "\n",
    "This is the tree we'll use for both the encoding and anonymization algorithms. It caches some measure of its subtrees: this could be their diversity, the amount of information they contain, or simply the number of elements."
   ]
  },
  {
   "cell_type": "code",
   "execution_count": null,
   "metadata": {},
   "outputs": [],
   "source": [
    "import Algebra.Information.Tree\n",
    "\n",
    "-- :info Tree"
   ]
  },
  {
   "cell_type": "markdown",
   "metadata": {},
   "source": [
    "We can draw the tree, with the measures of subtrees at each node:"
   ]
  },
  {
   "cell_type": "code",
   "execution_count": null,
   "metadata": {},
   "outputs": [],
   "source": [
    "Node 5 (Leaf 3 'a') (Node 2 (Leaf 1 'b') (Leaf 1 'c')) :: Tree Count Char"
   ]
  },
  {
   "cell_type": "markdown",
   "metadata": {},
   "source": [
    "Then, we'll need some machinery for translating between codes and trees."
   ]
  },
  {
   "cell_type": "code",
   "execution_count": null,
   "metadata": {},
   "outputs": [],
   "source": [
    "import           Data.Map.Strict (Map)\n",
    "import qualified Data.Map.Strict as Map\n",
    "import           Algebra.Information.Huffman\n",
    "\n",
    "foldMapWithCode :: Semigroup m => (Code -> b -> m) -> Tree a b -> m\n",
    "foldMapWithCode f (Leaf _ x) = f (Code []) x\n",
    "foldMapWithCode f (Node _ xs ys)\n",
    "    =  foldMapWithCode (f . (Code #. (:) False .# getCode)) xs\n",
    "    <> foldMapWithCode (f . (Code #. (:) True  .# getCode)) ys\n",
    "\n",
    "codeBook :: Ord b => Tree a b -> Map b Code\n",
    "codeBook = foldMapWithCode (flip Map.singleton)"
   ]
  },
  {
   "cell_type": "markdown",
   "metadata": {},
   "source": [
    "## A Priority Queue\n",
    "\n",
    "A pairing heap <cite data-cite=\"2201627/9H95638W\"></cite> is simple to implement, and works well as a priority queue. Both the `<>` and `insertHeap` functions below are amortized $\\mathcal{O}(1)$, and `minView` is amortized $\\mathcal{O}(\\log n)$."
   ]
  },
  {
   "cell_type": "code",
   "execution_count": null,
   "metadata": {
    "scrolled": true
   },
   "outputs": [],
   "source": [
    "data Heap a b = Heap a b [Heap a b]\n",
    "\n",
    "instance Ord a => Semigroup (Heap a b) where\n",
    "    Heap i x xs <> Heap j y ys\n",
    "      | i <= j = Heap i x (Heap j y ys : xs)\n",
    "      | otherwise = Heap j y (Heap i x xs : ys)\n",
    "\n",
    "minView :: Ord a => Heap a b -> (a, b, Maybe (Heap a b))\n",
    "minView (Heap i x xs) = (i, x, case xs of\n",
    "    [] -> Nothing\n",
    "    (y:ys) -> Just (mergeHeaps y ys))\n",
    "  where\n",
    "    mergeHeaps t []          = t\n",
    "    mergeHeaps t1 [t2]       = t1 <> t2\n",
    "    mergeHeaps t1 (t2:t3:ts) = (t1 <> t2) <> mergeHeaps t3 ts\n",
    "\n",
    "insertHeap :: Ord a => a -> b -> Heap a b -> Heap a b\n",
    "insertHeap i x (Heap j y ys)\n",
    "  | i <= j = Heap i x [Heap j y ys]\n",
    "  | otherwise = Heap j y (Heap i x [] : ys)"
   ]
  },
  {
   "cell_type": "markdown",
   "metadata": {},
   "source": [
    "# Huffman Encoding\n",
    "\n",
    "We're now able to write the algorithm for Huffman compression."
   ]
  },
  {
   "cell_type": "code",
   "execution_count": null,
   "metadata": {},
   "outputs": [],
   "source": [
    ":ext FlexibleContexts\n",
    ":ext DataKinds\n",
    "\n",
    "import           Data.Maybe       (fromJust)\n",
    "import           Data.Map.Strict  (Map)\n",
    "import qualified Data.Map.Strict  as Map\n",
    "import           IHaskell.Display (Display(..),html)\n",
    "\n",
    "import qualified Text.Blaze.Html5 as Tag\n",
    "import qualified Text.Blaze.Html5.Attributes as Attr\n",
    "import           Text.Html.Table\n",
    "import           GHC.Exts (fromString)\n",
    "\n",
    "buildHuffman :: Ord (f a) => (f a -> f a -> f a) -> Heap (f a) (Tree f a) -> Tree f a\n",
    "buildHuffman (<+>) hp = case minView hp of\n",
    "    (_,x,Nothing) -> x\n",
    "    (i,x,Just xs) -> case minView xs of\n",
    "        (j,y,Nothing) -> Node (i <+> j) x y\n",
    "        (j,y,Just ys) ->\n",
    "            buildHuffman (<+>) (insertHeap (i <+> j) (Node (i <+> j) x y) ys)\n",
    "\n",
    "buildHeap :: Ord (f a) => Histogram f a -> Heap (f a) (Tree f a)\n",
    "buildHeap\n",
    "    = fromJust\n",
    "    . getOption\n",
    "    . Map.foldMapWithKey (\\v i -> Option (Just (Heap i (Leaf i v) [])))\n",
    "    . getMeasures\n",
    "\n",
    "huffmanTree :: (Ord a, Information f a)\n",
    "            => [a] -> Tree f a\n",
    "huffmanTree = buildHuffman (+) . buildHeap . generalize\n",
    "\n",
    "tree = huffmanTree \"this is an example of a huffman tree\"\n",
    "    :: Tree Count Char\n",
    "tree\n",
    "\n",
    "import Algebra.Information.Huffman\n",
    "\n",
    "huffmanEncode :: Ord a => Tree c a -> [a] -> Table [a, Code]\n",
    "huffmanEncode tr xs =\n",
    "    table (\"Original\", \"Code\")\n",
    "          (Attr.style (fromString \"text-align: center;\")\n",
    "          ,Attr.style (fromString \"text-align: left;\"))\n",
    "          [(x, mp Map.! x) | x <- xs ]\n",
    "  where\n",
    "    mp = codeBook tr\n",
    "\n",
    "huffmanEncode tree \"example\""
   ]
  },
  {
   "cell_type": "markdown",
   "metadata": {},
   "source": [
    "## Huffman Anonymity\n",
    "\n",
    "Huffman compression has a ready analogue in the form of $k$-anonymity <cite data-cite=\"2201627/S5ZJQFX5\"></cite>. By truncating the output of the Huffman compression, rows which occur fewer than $k$ times are not specified: instead, a prefix (which could correspond to some $n$ rows, $n \\geq k$) is provided.\n",
    "\n",
    "Taken from a different perspective, we build a Huffman tree from the rows in our database. Then, for each value in the database, we walk down the tree from root to the corresponding leaf, stopping if we hit a node that contains fewer than $k$ entries. Then, we output the summary of values at that point.\n",
    "\n",
    "This general procedure forms the basis for several of the anonymization algorithms.\n",
    "\n",
    "First, for data, let's use ages:"
   ]
  },
  {
   "cell_type": "code",
   "execution_count": null,
   "metadata": {},
   "outputs": [],
   "source": [
    "ages :: [Int]\n",
    "ages = [5,15,19,22,25,33,33,39,31,44,41,42,48,55,59,70]\n",
    "\n",
    "agesTree = huffmanTree ages :: Tree Count Int\n",
    "agesTree"
   ]
  },
  {
   "cell_type": "markdown",
   "metadata": {},
   "source": [
    "Finally, we can draw the tree in its private form."
   ]
  },
  {
   "cell_type": "code",
   "execution_count": null,
   "metadata": {},
   "outputs": [],
   "source": [
    ":ext TypeApplications\n",
    "\n",
    "privateTree @ Range (>=2) agesTree"
   ]
  },
  {
   "cell_type": "markdown",
   "metadata": {},
   "source": [
    "Ages are grouped together with values that are unrelated, yielding unsatisfactory generalizations. The anonymization produced is as follows:"
   ]
  },
  {
   "cell_type": "code",
   "execution_count": null,
   "metadata": {},
   "outputs": [],
   "source": [
    ":ext RecordWildCards\n",
    "\n",
    "import qualified Data.Map.Strict         as Map\n",
    "import           Data.Semigroup          (Semigroup(..))\n",
    "import           Data.Semigroup.Foldable (foldMap1)\n",
    "import           Data.Foldable           (foldl')\n",
    "import           IHaskell.Display        (IHaskellDisplay(display)\n",
    "                                         ,html,Display)\n",
    "import           Text.Printf             (printf)\n",
    "import           Control.Applicative\n",
    "import           Control.Monad\n",
    "import Data.Functor.Identity\n",
    "\n",
    "anonMapping :: (Ord a, Information g a)\n",
    "            => (f a -> Bool) -> Tree f a -> Histogram g a\n",
    "anonMapping reveal = Histogram . fromJust . (anonTree $ \\tr -> do\n",
    "    guard (reveal (measure tr)) \n",
    "    let sm = generalize tr\n",
    "    pure (foldMap (\\v -> Map.singleton v sm) tr))\n",
    "    \n",
    "anonTree :: (Alternative f, Semigroup c) => (Tree a b -> f c) -> Tree a b -> f c\n",
    "anonTree select tr@(Node i l r) = liftA2 (<>) (anonTree select l) (anonTree select r)\n",
    "                               <|> select tr\n",
    "anonTree select tr = select tr\n",
    "\n",
    "anonTable :: (Applicative m,Ord a\n",
    "             ,Information f a,Show a)\n",
    "          => (f a -> m String)\n",
    "          -> Histogram f a\n",
    "          -> [a]\n",
    "          -> m (Table [a, String])\n",
    "anonTable output (Histogram mapping) xs\n",
    "    = fmap toTable (traverse (\\x -> output (mapping Map.! x)) xs)\n",
    "  where\n",
    "    toTable strs\n",
    "        = table (\"Original\", \"Anonymized\")\n",
    "                (Attr.style (fromString \"text-align: center;\")\n",
    "                ,Attr.style (fromString \"text-align: center;\"))\n",
    "                (zip xs strs)\n",
    "\n",
    "anonTablePure :: (Information f a, Ord a, Show a, Show (f a))\n",
    "              => Histogram f a\n",
    "              -> [a]\n",
    "              -> Table [a, String]\n",
    "anonTablePure hist = runIdentity #. anonTable (pure #. show) hist\n",
    "\n",
    "anonTablePure @ Range (anonMapping (2<=) agesTree) ages"
   ]
  },
  {
   "cell_type": "markdown",
   "metadata": {},
   "source": [
    "Better generalizations can be achieved by building an *alphabetic* Huffman tree <cite data-cite=\"2201627/M35JL7I9\"></cite>."
   ]
  },
  {
   "cell_type": "code",
   "execution_count": null,
   "metadata": {},
   "outputs": [],
   "source": [
    "import           Control.Monad.State\n",
    "import qualified Data.Map.Strict     as Map\n",
    "import           Data.Foldable       (Foldable(..))\n",
    "\n",
    "import qualified Prelude as Num\n",
    "\n",
    "buildAlphHuffman :: Histogram Count a -> Tree Count a\n",
    "buildAlphHuffman xs = evalState (go c) (Map.toList (getMeasures xs))\n",
    "  where\n",
    "    c = getCount (getGeneralization (foldMap Generalization (getMeasures xs)))\n",
    "    go n = do\n",
    "      (x,Count i) <- gets head\n",
    "      if i >= n\n",
    "        then do\n",
    "          modify tail\n",
    "          pure (Leaf (Count i) x)\n",
    "        else do\n",
    "          let m = n `div` 2\n",
    "          ls <- go m\n",
    "          let nxt = n Prelude.- (getCount (measure ls))\n",
    "          if nxt <= 0 then pure ls else do\n",
    "            rs <- go nxt\n",
    "            pure (Node (measure ls + measure rs) ls rs)\n",
    "\n",
    "alphHuffmanTree :: Ord a => [a] -> Tree Count a\n",
    "alphHuffmanTree = buildAlphHuffman . generalize\n",
    "\n",
    "k2agesAlph = privateTree @ Range (2<=) (alphHuffmanTree ages)\n",
    "k2agesAlph\n",
    "\n",
    "anonTablePure @ Range (anonMapping (2<=) (alphHuffmanTree ages)) ages"
   ]
  },
  {
   "cell_type": "markdown",
   "metadata": {},
   "source": [
    "# Arithmetic Coding for Privacy\n",
    "\n",
    "Arithmetic coding compresses data by encoding successively smaller and smaller intervals. For our purposes, it has two properties which are desirable:\n",
    "\n",
    "* It is a streaming algorithm, able to output the encoding for an input symbol once it has been received.\n",
    "* It parameterizes the notion of a \"model\": for compression, this allows intelligent prediction of things like \"a u is likely to come after a q\" (when compressing English text). Commonly, it facilitates the building of a frequency table on the fly. For our purposes, it will both build the frequency table on-the-fly, and potentially allow us to cluster similar data together.\n",
    "\n",
    "In order to use the algorithm for privacy, we will first emit a sequence of intervals, instead of a single number. This removes the capacity for compression. For instance, for the letters $a,b,c$, the following might be emitted:\n",
    "\n",
    "$$\\frac{1}{3},\\frac{1}{3},\\frac{1}{3}$$\n",
    "\n",
    "Secondly, we will use a model that builds a cumulative frequency table on the fly (e.g. with a Fenwick tree). This widens the interval for more frequently occurring symbols.\n",
    "\n",
    "Thirdly, we will truncate the output of the representation of each interval. In other words, we will widen every interval. The amount we widen by will be the minimum amount to make the interval larger than $\\frac{k}{n}$ where $n$ is the number of symbols seen so far.\n",
    "\n",
    "Finally, we will decompress as we compress, translating the intervals back into the values of the domain we are anonymizing. Because we have truncated the interval, it may span more than one value in our model. This is desired: it will happen only when $k$ is satisfied only through generalization.\n",
    "\n",
    "As a simple way to demonstrate the algorithm, we will use a perfect binary tree to count the cumulative frequencies:"
   ]
  },
  {
   "cell_type": "code",
   "execution_count": null,
   "metadata": {},
   "outputs": [],
   "source": [
    ":ext TypeSynonymInstances\n",
    ":ext FlexibleInstances\n",
    "\n",
    "import           Data.Bits\n",
    "import           IHaskell.Display          (IHaskellDisplay(display))\n",
    "import qualified Data.Tree                 as Rose\n",
    "import           Diagrams.TwoD.Layout.Tree (renderTree,symmLayout)\n",
    "import           Diagrams.Prelude          (text,fontSizeL,circle,fc\n",
    "                                           ,lc,white,pad,centerXY,(#)\n",
    "                                           ,(~~))\n",
    "import           Data.Maybe                (catMaybes,fromJust)\n",
    "\n",
    "data Nested a\n",
    "    = Perfect !a\n",
    "    | Nest !(Nested (Branch a))\n",
    "\n",
    "type Perfect = Nested ()\n",
    "\n",
    "foldPerfect :: (Word -> b -> Word -> b -> b) -> b -> Perfect -> b\n",
    "foldPerfect f = go f . const\n",
    "  where\n",
    "    go :: (Word -> b -> Word -> b -> b) -> (a -> b) -> Nested a -> b\n",
    "    go _ b (Perfect x) = b x\n",
    "    go f b (Nest t) = go f (\\(Branch ls l rs r) -> f ls (b l) rs (b r)) t\n",
    "\n",
    "data Branch a =\n",
    "    Branch {-# UNPACK #-} !Word\n",
    "           !a\n",
    "           {-# UNPACK #-} !Word\n",
    "           !a\n",
    "\n",
    "data Span = Span {-# UNPACK #-} !Word {-# UNPACK #-} !Word\n",
    "\n",
    "instance Show Span where\n",
    "    showsPrec n (Span l 0) = showsPrec n l\n",
    "    showsPrec _ (Span l o)\n",
    "        = showChar '['\n",
    "        . shows (shiftL l (fromEnum o))\n",
    "        . showChar ','\n",
    "        . shows (shiftL (l + 1) (fromEnum o))\n",
    "        . showChar ')'\n",
    "\n",
    "makePerfect :: Word -> Perfect\n",
    "makePerfect = mk ()\n",
    "  where\n",
    "    mk :: a -> Word -> Nested a\n",
    "    mk x 0 = Perfect x\n",
    "    mk x m = Nest (mk (Branch 0 x 0 x) (pred m))\n",
    "\n",
    "incr :: Word -> Perfect -> Perfect\n",
    "incr i tr = go i 0 tr id\n",
    "  where\n",
    "    go :: Word -> Word -> Nested a -> (a -> a) -> Nested a\n",
    "    go _ _ (Perfect x) c = Perfect (c x)\n",
    "    go i p (Nest t) c =\n",
    "        Nest $\n",
    "        go i (p + 1) t $\n",
    "            \\(Branch sl l sr r) ->\n",
    "              if testBit i (fromEnum p)\n",
    "                then Branch sl l (sr + 1) (c r)\n",
    "                else Branch (sl + 1) (c l) sr r\n",
    "\n",
    "instance IHaskellDisplay Perfect where\n",
    "    display = display\n",
    "            . diagram\n",
    "            . drawTree\n",
    "            . res\n",
    "            . foldPerfect toTree []\n",
    "      where\n",
    "        toTree x l y r = [Rose.Node x l, Rose.Node y r]\n",
    "        res xs = Rose.Node (sum (map Rose.rootLabel xs)) xs\n",
    "        drawTree\n",
    "            = pad 1.1\n",
    "            . centerXY\n",
    "            . renderTree\n",
    "                (\\n -> text (show n) # fontSizeL 0.2\n",
    "                    <> circle 0.2 # fc white # lc white)\n",
    "                (~~)\n",
    "            . symmLayout\n",
    "                \n",
    "foldr incr (makePerfect 3) [0,3,3,2,6]"
   ]
  },
  {
   "cell_type": "markdown",
   "metadata": {},
   "source": [
    "Then, we can write a function that looks up an item in the tree *up until* the point where $k$ is no longer satisfied:"
   ]
  },
  {
   "cell_type": "code",
   "execution_count": null,
   "metadata": {},
   "outputs": [],
   "source": [
    "follow :: Int -> Word -> Perfect -> Span\n",
    "follow k' i tr = foldPerfect go Span tr 0 k\n",
    "  where\n",
    "    k = toEnum k'\n",
    "    go sl lt sr rt l p\n",
    "      | sl < k || sr < k = Span l p\n",
    "      | testBit i (pred (fromEnum p)) = rt (shiftL l 1 .|. 1) (pred p)\n",
    "      | otherwise = lt (shiftL l 1) (pred p)"
   ]
  },
  {
   "cell_type": "markdown",
   "metadata": {},
   "source": [
    "The advantage of this approach is that it maintains $k$-anonymity incrementally. Take, for instance, this small list of values between $0$ and $4$:"
   ]
  },
  {
   "cell_type": "code",
   "execution_count": null,
   "metadata": {},
   "outputs": [],
   "source": [
    "smallVals = [1,2,1,3,2,0,1,0,3]\n",
    "\n",
    "import Data.Traversable (mapAccumL)\n",
    "import Data.List        (inits)\n",
    "\n",
    "incrementalAnon :: Int -> Word -> [Word] -> [[Span]]\n",
    "incrementalAnon k sz xs\n",
    "    = snd \n",
    "    $ mapAccumL\n",
    "        anon\n",
    "        (makePerfect sz)\n",
    "        (zip xs (tail (inits xs)))\n",
    "  where\n",
    "    anon tr (v,vs) = (i,traverse (follow k) vs i)\n",
    "      where\n",
    "        i = incr v tr\n",
    "\n",
    "mapM_ print (incrementalAnon 2 2 [1,2,1,3,2,0,1,0,3])"
   ]
  },
  {
   "cell_type": "markdown",
   "metadata": {},
   "source": [
    "# Incremental Anonymity\n",
    "\n",
    "Incrementally anonymizing a database can potentially leak private data <cite data-cite=\"2201627/HWXFFBRT\"></cite>. For instance, take the following values:"
   ]
  },
  {
   "cell_type": "code",
   "execution_count": null,
   "metadata": {},
   "outputs": [],
   "source": [
    "anonTablePure @ Range (anonMapping (2<=) (alphHuffmanTree [1..5])) [1..5]"
   ]
  },
  {
   "cell_type": "markdown",
   "metadata": {},
   "source": [
    "If another $3$ is added to the database:"
   ]
  },
  {
   "cell_type": "code",
   "execution_count": null,
   "metadata": {},
   "outputs": [],
   "source": [
    "anonTablePure @ Range (anonMapping (2<=) (alphHuffmanTree [1,2,3,4,5,3])) [1,2,3,4,5,3]"
   ]
  },
  {
   "cell_type": "markdown",
   "metadata": {},
   "source": [
    "If both of these anonymizations are released, we could take their row-wise intersection, thereby revealing much more information than we intended."
   ]
  },
  {
   "cell_type": "code",
   "execution_count": null,
   "metadata": {},
   "outputs": [],
   "source": [
    "intersection = anonMapping (2<=) (alphHuffmanTree [1..5])\n",
    "             * anonMapping (2<=) (alphHuffmanTree [1,2,3,4,5,3])\n",
    "\n",
    "anonTablePure @ Range intersection [1..5]"
   ]
  },
  {
   "cell_type": "markdown",
   "metadata": {},
   "source": [
    "The solution might seem simple: just don't change the anonymization of previous entries. But this is actually sub-optimal, leaving earlier more conservative than they need to be.\n",
    "\n",
    "The problem is related to *tree-balancing*. For search trees, we want to balance to reduce search cost, but reduce the frequency of balancing to reduce insertion cost: here, we want to balance to increase information gain, but reduce frequency of balancing to avoid revealing private internal structure.\n",
    "\n",
    "It's worth noting that we're not concerned with the overall frequency of balances, rather the rebalancing per release. After all, if we only release one copy of the anonymized data set, we need not be concerned with incremental privacy at all."
   ]
  },
  {
   "cell_type": "markdown",
   "metadata": {},
   "source": [
    "# Generalized Balance\n",
    "\n",
    "In the previous section, we saw that we could generalize the \"cost of rebalancing\" to describe incremental anonymity. Other notions from the theory of search trees can be generalized similarly, in particular *balance*.\n",
    "\n",
    "One generalization applies to $l$-diversity <cite data-cite=\"2201627/E9354EJL\"></cite>.\n",
    "\n",
    "Let's take a database with a sensitive row, perhaps voting preference:"
   ]
  },
  {
   "cell_type": "code",
   "execution_count": null,
   "metadata": {},
   "outputs": [],
   "source": [
    ":ext TypeOperators\n",
    "\n",
    "import Control.Arrow ((***))\n",
    "import Text.Printf   (PrintfArg(..),formatChar)\n",
    "\n",
    "data VotingPref\n",
    "    = D\n",
    "    | R\n",
    "    deriving (Show,Eq,Ord,Enum,Bounded)\n",
    "\n",
    "instance Tag.ToMarkup VotingPref where\n",
    "    toMarkup D = Tag.toMarkup 'D'\n",
    "    toMarkup R = Tag.toMarkup 'R'\n",
    "\n",
    "instance (Tag.ToMarkup a, Tag.ToMarkup b) => Tag.ToMarkup (a,b) where\n",
    "    toMarkup (x,y) = Tag.toMarkup '('\n",
    "                  <> Tag.toMarkup x\n",
    "                  <> Tag.toMarkup ','\n",
    "                  <> Tag.toMarkup y\n",
    "                  <> Tag.toMarkup ')'\n",
    "\n",
    "agesAndVotes = zip ages [D,R,D,D,R,D,R,R,R,R,D,D,R,R,D,D]\n",
    "privateTree @ Range (2<=) (alphHuffmanTree agesAndVotes)\n",
    "anonTablePure @ Range (anonMapping (2<=) (alphHuffmanTree agesAndVotes)) agesAndVotes"
   ]
  },
  {
   "cell_type": "markdown",
   "metadata": {},
   "source": [
    "As you can see, while $k$-anonymity has indeed been preserved, most rows in the table have had their voting preference revealed. To counteract that, we can balance the voting preference when building the tree: however, this ups the complexity of the procedure."
   ]
  },
  {
   "cell_type": "markdown",
   "metadata": {},
   "source": [
    "# Randomization\n",
    "\n",
    "Providing an equivalence class for each $k$-anonymous value is problematic in 2 ways:\n",
    "\n",
    "* It allows an adversary to intersect the members of this class with future releases, revealing more information that originally intended.\n",
    "* It doesn't provide distribution information on the members of the class.\n",
    "\n",
    "While we could remedy the second point by providing a histogram instead of a set, but that would exacerbate the problem of the first.\n",
    "\n",
    "Instead, we can randomize the output from the tree traversal, providing a concrete value that may have noise added in the output. This will allow us to output a representative table, with the distributions similar to the private table, but also it will hide the equivalence groupings we use in the tree, allowing us to aggressively rebalance when necessary.\n",
    "\n",
    "This concept maps on to group differential privacy.\n",
    "\n",
    "The idea is as follows: for every row, we're going to choose one bit to replace with a fairly chosen representative of that bit, based on the histogram of the table. The $\\epsilon$ (of $\\epsilon$-differential privacy) is given by the difference in size of the two branches, over the sum in the size of the two branches. For instance, in the following table:"
   ]
  },
  {
   "cell_type": "code",
   "execution_count": null,
   "metadata": {
    "scrolled": false
   },
   "outputs": [],
   "source": [
    "table = \"aabbbcdee\"\n",
    "\n",
    "simpleTree = huffmanTree table :: Tree Count Char\n",
    "simpleTree\n",
    "huffmanEncode simpleTree table"
   ]
  },
  {
   "cell_type": "markdown",
   "metadata": {},
   "source": [
    "Replacing the last bit in the first 'b' with a histogram would provide:\n",
    "\n",
    "$$\\epsilon = \\frac{3-2}{3+2}$$\n",
    "\n",
    "$\\epsilon$-differential privacy. However, since it's from a subset of the database of size $5$, there are going to be $5$ differentially private queries on that subset. So, it would actually only provide:\n",
    "\n",
    "$$\\epsilon = \\frac{1}{5^2}$$\n",
    "\n",
    "$\\epsilon$-differential privacy.\n",
    "\n",
    "For every row in the database, we can replace one bit with its histogram representation: the equation above gives the privacy provided by replacing that bit. Obviously, the privacy provided by replacing later bits is much greater than that of earlier."
   ]
  },
  {
   "cell_type": "code",
   "execution_count": null,
   "metadata": {},
   "outputs": [],
   "source": [
    "import Data.Ratio    ((%))\n",
    "import Data.Function (on)\n",
    "\n",
    "diff :: Count a -> Count a -> Count a\n",
    "diff (Count x) (Count y)\n",
    "  | x >= y = Count (x Prelude.- y)\n",
    "  | otherwise = Count (y Prelude.- x)\n",
    "\n",
    "diffPrivacy :: Tree Count a -> Rational\n",
    "diffPrivacy (Node (Count i) l r)\n",
    "    = toInteger (getCount (diff (measure l) (measure r))) % toInteger (i * i)\n",
    "diffPrivacy (Leaf _ _) = 0"
   ]
  },
  {
   "cell_type": "markdown",
   "metadata": {},
   "source": [
    "To use this for releasing private information, we will first need to have a way to generate a random bit from a histogram:"
   ]
  },
  {
   "cell_type": "code",
   "execution_count": null,
   "metadata": {},
   "outputs": [],
   "source": [
    ":ext StandaloneDeriving\n",
    "\n",
    "import System.Random       (RandomGen, randomR, getStdRandom, Random(..))\n",
    "import Control.Monad.State (StateT, state, runState, runStateT)\n",
    "import Data.Bool           (bool)\n",
    "\n",
    "instance Random (Count a) where\n",
    "    randomR (lo,hi) g = case randomR (toInteger lo, toInteger hi) g of\n",
    "        (res,g') -> (fromInteger res, g')\n",
    "    random g = case random g of\n",
    "        (res,g') -> (fromInteger (abs res), g')\n",
    "\n",
    "choose :: (RandomGen g, Applicative m, Monoid a, Random a, Ord a)\n",
    "       => a -> a -> StateT g m Bool\n",
    "choose f t = StateT (\\g -> case randomR (mempty, f `mappend` t) g of\n",
    "  (n,g') -> pure (f < n,g'))\n",
    "\n",
    "getStdRandom (runState (replicateM 10 (bool '0' '1' <$> choose 1 1)))"
   ]
  },
  {
   "cell_type": "markdown",
   "metadata": {},
   "source": [
    "Then, we'll need to be able to randomly choose an item from a histogram (represented as a tree):"
   ]
  },
  {
   "cell_type": "code",
   "execution_count": null,
   "metadata": {},
   "outputs": [],
   "source": [
    "select :: (RandomGen g, Monad m, Monoid b, Random b, Ord b) => Tree b a -> StateT g m a\n",
    "select (Leaf _ x) = pure x\n",
    "select (Node _ l r) = choose (measure l) (measure r)\n",
    "                  >>= bool (select l) (select r)"
   ]
  },
  {
   "cell_type": "code",
   "execution_count": null,
   "metadata": {},
   "outputs": [],
   "source": [
    "import Data.Bool (bool)\n",
    "\n",
    "subtrees :: [Bool] -> Tree b a -> [Tree b a]\n",
    "subtrees = foldr f b where\n",
    "  b = (:[])\n",
    "  f side acc tr = tr : case tr of\n",
    "    Leaf _ _ -> []\n",
    "    Node _ l r -> acc (bool l r side)\n",
    "\n",
    "last :: Foldable f => f a -> Maybe a\n",
    "last = foldl (const Just) Nothing\n",
    "\n",
    "diffAnonymize :: RandomGen g\n",
    "              => Rational\n",
    "              -> [Bool]\n",
    "              -> Tree (Count a) a\n",
    "              -> Maybe (State g a)\n",
    "diffAnonymize eps xs\n",
    "    = fmap select\n",
    "    . last\n",
    "    . filter (\\st -> diffPrivacy st > eps)\n",
    "    . subtrees xs\n",
    "\n",
    "randAnon :: (Ord a, RandomGen g) => Rational -> [a] -> Maybe (State g [a])\n",
    "randAnon k xs = sequence <$> traverse (\\x -> diffAnonymize k (mp Map.! x) tr) xs\n",
    "  where\n",
    "    tr = alphHuffmanTree xs\n",
    "    mp = codeBook tr\n",
    "\n",
    "import Statistics.Distribution.Normal\n",
    "import System.Random.MWC\n",
    "import Statistics.Distribution\n",
    "\n",
    "randVar :: IO Double\n",
    "randVar = withSystemRandom (genContVar (normalDistr 40 5) `asTypeOf`\n",
    "                            const (undefined :: IO Double))\n",
    "\n",
    "randAges <- filter (0<) <$> replicateM 100 randVar\n",
    "anonRandAges <- getStdRandom (runState (fromJust (randAnon 0 randAges)))\n",
    "\n",
    "randAges == anonRandAges"
   ]
  },
  {
   "cell_type": "code",
   "execution_count": null,
   "metadata": {},
   "outputs": [],
   "source": [
    "histogram 2 10 randAges\n",
    "histogram 2 10 anonRandAges"
   ]
  },
  {
   "cell_type": "markdown",
   "metadata": {},
   "source": [
    "# Full Generalization"
   ]
  },
  {
   "cell_type": "code",
   "execution_count": null,
   "metadata": {},
   "outputs": [],
   "source": [
    "data AnonymizationScheme a b c d e m f\n",
    "    = AnonymizationScheme\n",
    "    { build :: [a] -> Tree b a\n",
    "    , mappg :: c -> Tree b a -> f d\n",
    "    , run   :: d -> m e\n",
    "    }\n",
    "\n",
    "anonymize :: (Applicative f, Alternative f, Semigroup d, Applicative m) => AnonymizationScheme a b c d e m f -> c -> [a] -> f (m [e])\n",
    "anonymize = undefined"
   ]
  }
 ],
 "metadata": {
  "author": "mes",
  "cite2c": {
   "citations": {
    "2201627/9H95638W": {
     "DOI": "10.1007/BF01840439",
     "URL": "http://www.cs.princeton.edu/courses/archive/fall09/cos521/Handouts/pairingheaps.pdf",
     "abstract": "Recently, Fredman and Tarjan invented a new, especially efficient form of heap (priority queue) called theFibonacci heap. Although theoretically efficient, Fibonacci heaps are complicated to implement and not as fast in practice as other kinds of heaps. In this paper we describe a new form of heap, called thepairing heap, intended to be competitive with the Fibonacci heap in theory and easy to implement and fast in practice. We provide a partial complexity analysis of pairing heaps. Complete analysis remains an open problem.",
     "accessed": {
      "day": 21,
      "month": 4,
      "year": 2017
     },
     "author": [
      {
       "family": "Fredman",
       "given": "Michael L."
      },
      {
       "family": "Sedgewick",
       "given": "Robert"
      },
      {
       "family": "Sleator",
       "given": "Daniel D."
      },
      {
       "family": "Tarjan",
       "given": "Robert E."
      }
     ],
     "container-title": "Algorithmica",
     "container-title-short": "Algorithmica",
     "id": "2201627/9H95638W",
     "issue": "1-4",
     "issued": {
      "month": 1,
      "year": 1986
     },
     "journalAbbreviation": "Algorithmica",
     "language": "en",
     "page": "111-129",
     "page-first": "111",
     "shortTitle": "The pairing heap",
     "title": "The pairing heap: A new form of self-adjusting heap",
     "title-short": "The pairing heap",
     "type": "article-journal",
     "volume": "1"
    },
    "2201627/E9354EJL": {
     "DOI": "10.1109/ICDE.2006.1",
     "abstract": "Publishing data about individuals without revealing sensitive information about them is an important problem. In recent years, a new definition of privacy called kappa-anonymity has gained popularity. In a kappa-anonymized dataset, each record is indistinguishable from at least k—1 other records with respect to certain \"identifying\" attributes. In this paper we show with two simple attacks that a kappa-anonymized dataset has some subtle, but severe privacy problems. First, we show that an attacker can discover the values of sensitive attributes when there is little diversity in those sensitive attributes. Second, attackers often have background knowledge, and we show that kappa-anonymity does not guarantee privacy against attackers using background knowledge. We give a detailed analysis of these two attacks and we propose a novel and powerful privacy definition called ell-diversity. In addition to building a formal foundation for ell-diversity, we show in an experimental evaluation that ell-diversity is practical and can be implemented efficiently.",
     "author": [
      {
       "family": "Machanavajjhala",
       "given": "A."
      },
      {
       "family": "Gehrke",
       "given": "J."
      },
      {
       "family": "Kifer",
       "given": "D."
      },
      {
       "family": "Venkitasubramaniam",
       "given": "M."
      }
     ],
     "container-title": "22nd International Conference on Data Engineering (ICDE'06)",
     "event": "22nd International Conference on Data Engineering (ICDE'06)",
     "id": "2201627/E9354EJL",
     "issued": {
      "month": 4,
      "year": 2006
     },
     "page": "24-24",
     "page-first": "24",
     "shortTitle": "L-diversity",
     "title": "L-diversity: privacy beyond k-anonymity",
     "title-short": "L-diversity",
     "type": "paper-conference"
    },
    "2201627/HWXFFBRT": {
     "DOI": "10.1109/SSDBM.2007.16",
     "abstract": "K-anonymity is a simple yet practical mechanismto protect privacy against attacks of re-identifying individuals by joining multiple public data sources. All existing methods achieving k-anonymity assume implicitly that the data objects to be anonymized are given once and fixed. However, in many applications, the real world data sources are dynamic. In this paper, we investigate the problem of maintaining k-anonymity against incremental updates, and propose a simple yet effective solution. We analyze how inferences from multiple releases may temper the k-anonymity of data, and propose the monotonic incremental anonymization property. The general idea is to progressively and consistently reduce the generalization granularity as incremental updates arrive. Our new approach guarantees the k-anonymity on each release, and also on the inferred table using multiple releases. At the same time, our new approach utilizes the more and more accumulated data to reduce the information loss.",
     "author": [
      {
       "family": "Pei",
       "given": "J."
      },
      {
       "family": "Xu",
       "given": "J."
      },
      {
       "family": "Wang",
       "given": "Z."
      },
      {
       "family": "Wang",
       "given": "W."
      },
      {
       "family": "Wang",
       "given": "K."
      }
     ],
     "container-title": "19th International Conference on Scientific and Statistical Database Management (SSDBM 2007)",
     "event": "19th International Conference on Scientific and Statistical Database Management (SSDBM 2007)",
     "id": "2201627/HWXFFBRT",
     "issued": {
      "month": 7,
      "year": 2007
     },
     "page": "5-5",
     "page-first": "5",
     "title": "Maintaining K-Anonymity against Incremental Updates",
     "type": "paper-conference"
    },
    "2201627/M35JL7I9": {
     "DOI": "10.1137/0205002",
     "URL": "https://epubs.siam.org/doi/abs/10.1137/0205002",
     "abstract": "An algorithm of Knuth for finding an optimal binary tree is extended in several directions to solve related problems. The first case considered is restricting the depth of the tree by some predetermined integer K, and a $Kn^2 $ algorithm is given. Next, for trees of degree $\\sigma $, rather than binary trees, $Kn^2 \\log \\sigma $ and $n^2 \\log \\sigma $ algorithms are found for the restricted and nonrestricted cases, respectively. For alphabetic trees with letters of unequal cost, $\\sigma ^2 n^2 $ algorithm is proposed. We conclude with a comparison of alphabetic and nonalphabetic trees and their respective complexities.",
     "accessed": {
      "day": 30,
      "month": 3,
      "year": 2018
     },
     "author": [
      {
       "family": "Itai",
       "given": "A."
      }
     ],
     "container-title": "SIAM Journal on Computing",
     "container-title-short": "SIAM J. Comput.",
     "id": "2201627/M35JL7I9",
     "issue": "1",
     "issued": {
      "day": 1,
      "month": 3,
      "year": 1976
     },
     "journalAbbreviation": "SIAM J. Comput.",
     "page": "9-18",
     "page-first": "9",
     "title": "Optimal Alphabetic Trees",
     "type": "article-journal",
     "volume": "5"
    },
    "2201627/S5ZJQFX5": {
     "DOI": "10.1142/S0218488502001648",
     "URL": "http://dx.doi.org/10.1142/S0218488502001648",
     "abstract": "Consider a data holder, such as a hospital or a bank, that has a privately held collection of person-specific, field structured data. Suppose the data holder wants to share a version of the data with researchers. How can a data holder release a version of its private data with scientific guarantees that the individuals who are the subjects of the data cannot be re-identified while the data remain practically useful? The solution provided in this paper includes a formal protection model named k-anonymity and a set of accompanying policies for deployment. A release provides k-anonymity protection if the information for each person contained in the release cannot be distinguished from at least k-1 individuals whose information also appears in the release. This paper also examines re-identification attacks that can be realized on releases that adhere to k- anonymity unless accompanying policies are respected. The k-anonymity protection model is important because it forms the basis on which the real-world systems known as Datafly, µ-Argus and k-Similar provide guarantees of privacy protection.",
     "accessed": {
      "day": 11,
      "month": 4,
      "year": 2018
     },
     "author": [
      {
       "family": "Sweeney",
       "given": "Latanya"
      }
     ],
     "container-title": "Int. J. Uncertain. Fuzziness Knowl.-Based Syst.",
     "id": "2201627/S5ZJQFX5",
     "issue": "5",
     "issued": {
      "month": 10,
      "year": 2002
     },
     "page": "557–570",
     "page-first": "557",
     "shortTitle": "K-anonymity",
     "title": "K-anonymity: A Model for Protecting Privacy",
     "title-short": "K-anonymity",
     "type": "article-journal",
     "volume": "10"
    }
   }
  },
  "kernelspec": {
   "display_name": "Haskell",
   "language": "haskell",
   "name": "haskell"
  },
  "language_info": {
   "codemirror_mode": "ihaskell",
   "file_extension": ".hs",
   "name": "haskell",
   "version": "8.2.2"
  },
  "latex_envs": {
   "LaTeX_envs_menu_present": true,
   "autoclose": false,
   "autocomplete": true,
   "bibliofile": "biblio.bib",
   "cite_by": "apalike",
   "current_citInitial": 1,
   "eqLabelWithNumbers": true,
   "eqNumInitial": 1,
   "hotkeys": {
    "equation": "Ctrl-E",
    "itemize": "Ctrl-I"
   },
   "labels_anchors": false,
   "latex_user_defs": false,
   "report_style_numbering": false,
   "user_envs_cfg": false
  }
 },
 "nbformat": 4,
 "nbformat_minor": 2
}
